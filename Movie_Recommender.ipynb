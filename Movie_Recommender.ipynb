{
  "nbformat": 4,
  "nbformat_minor": 0,
  "metadata": {
    "colab": {
      "name": "Movie Recommender.ipynb",
      "provenance": [],
      "collapsed_sections": []
    },
    "kernelspec": {
      "name": "python3",
      "display_name": "Python 3"
    },
    "language_info": {
      "name": "python"
    }
  },
  "cells": [
    {
      "cell_type": "markdown",
      "metadata": {
        "id": "ry5bQ2m0XPeX"
      },
      "source": [
        "# **Laporan Proyek Machine Learning - Gabril Hozanna**"
      ]
    },
    {
      "cell_type": "markdown",
      "metadata": {
        "id": "ZDzSUZkqXS-P"
      },
      "source": [
        "## **Project Overview**"
      ]
    },
    {
      "cell_type": "markdown",
      "metadata": {
        "id": "G2VjGbs6cdIk"
      },
      "source": [
        "Pesatnya pertumbuhan pengumpulan data telah menyebabkan era baru informasi. Data digunakan untuk membuat sistem yang lebih efisien dan di sinilah Sistem Rekomendasi berperan. Sistem Rekomendasi adalah jenis sistem penyaringan informasi karena sistem Rekomendasi meningkatkan kualitas hasil pencarian dan menyediakan item yang lebih relevan dengan item pencarian atau terkait dengan riwayat pencarian penggunaan.\n",
        "\n",
        "Sistem Rekomendasi digunakan untuk memprediksi peringkat atau preferensi yang akan diberikan pengguna pada suatu item. Hampir setiap perusahaan teknologi besar telah menerapkannya dalam beberapa bentuk atau yang lain: Amazon menggunakannya untuk menyarankan produk kepada pelanggan, YouTube menggunakannya untuk memutuskan video mana yang akan diputar selanjutnya di autoplay, dan Facebook menggunakannya untuk merekomendasikan halaman yang disukai dan orang untuk diikuti. Selain itu, perusahaan seperti Netflix dan Spotify sangat bergantung pada efektivitas mesin rekomendasi mereka untuk bisnis dan kesuksesan mereka. Di Netflix sendiri, menerapkan sistem rekomendasi untuk merekomendasikan film dan serial ke pengguna. Pendapatan Netflix pada kuartal II-2021 ini mengalami kenaikan 19 persen dari tahun ke tahun (YoY). Pendapatan perusahaan di tahun 2020 berada di angka `US$6,1` milliar (sekitar Rp.88,5 trilliun), naik menjadi `US$7,3` miliar (kira-kira Rp.105,9 trilliun) [InfoKomputer](https://infokomputer.grid.id/read/122837009/contoh-implementasi-teknologi-ai-di-platform-streaming-film-netflix?page=all).\n",
        "\n",
        "Film adalah salah satu media hiburan yang populer di masyarakat. Sampai September 2021, tercatat telah ada 8,313,921 judul film yang telah rilis [IMDb Statistics](https://www.imdb.com/pressroom/stats/). Banyaknya judul-judul yang telah rilis membuat masyarakat kesulitan untuk menemukan film mana yang mereka ingin tonton. Untuk mengatasi masalah tersebut, perlu adanya informasi mengenai film yang akan memudahkan masyarakat untuk menemukan film yang cocok dengan preferensi user, oleh sebab itu user perlu sebuah sistem yang dapat memberikan rekomendasi film. "
      ]
    },
    {
      "cell_type": "markdown",
      "metadata": {
        "id": "YNuEMm8mXWy5"
      },
      "source": [
        "## **Business Understanding**"
      ]
    },
    {
      "cell_type": "markdown",
      "metadata": {
        "id": "gXqykXz9XYMW"
      },
      "source": [
        "### **Problem Statements**\n",
        "\n",
        "* Bagaimana menyajikan sejumlah rekomendasi film dengan teknik content-based filtering?\n",
        "* Bagaimana menyajikan sejumlah rekomendasi film dengan teknik collaborative filtering?"
      ]
    },
    {
      "cell_type": "markdown",
      "metadata": {
        "id": "n5SlAaoJXZmm"
      },
      "source": [
        "### **Goals**\n",
        "* Untuk menyajikan sejumlah rekomendasi film dengan teknik content-based filtering\n",
        "* Untuk menyajikan sejumlah rekomendasi film dengan teknik collaborative filtering"
      ]
    },
    {
      "cell_type": "markdown",
      "metadata": {
        "id": "qvvq-eWSXbNI"
      },
      "source": [
        "### **Solution approach**\n",
        "\n",
        "Berdasarkan problem statements yang telah disebutkan maka dapat menggunakan teknik:\n",
        "1. **Content-based filtering** memanfaatkan informasi beberapa item / data untuk direkomendasikan kepada pengguna sebagai referensi yang terkait dengan informasi yang digunakan sebelumnya. Tujuan dari content based recommendation agar dapat memprediksi persamaan dari sejumlah informasi yang didapat dari pengguna. Content based filtering menggunakan konsep perhitungan vector, TF-IDF, dan Cosine Similarity yang intinya dikonversikan dari data / text menjadi berbentuk vektor. Content based filtering membutuhkan deskripsi item/data yang baik. \n",
        "\n",
        "  Untuk teknik content-based filtering menggunakan `CountVectorizer`. CountVectorizer akan mengambil kata-kata dari setiap kalimat dan menciptakan vocabulary dari semua kata unik dalam kalimat. Vocabulary ini kemudian dapat digunakan untuk membuat feature vector dari jumlah kata. Perbedaan antara `TfidfVectorizer()` dengan `CountVectorizer()` adalah `TfidfVectorizer()` mengembalikan float atau `returns floats` sedangkan CountVectorizer() mengembalikan int atau `return int`.\n",
        "\n",
        "2. **Collaborative filtering** memanfaatkan transaksi suatu produk / item yang didasarkan kepada perilaku / kebiasaan si pengguna. Tujuannya agar pengguna yang sama dan item yang serupa dapat disukai oleh pengguna sebagai rekomendasi pilihan. Collaborative Filtering membutuhkan banyak feedback dari pengguna agar sistem berfungsi dengan baik.\n",
        "\n",
        "  Untuk teknik collaborative filtering menerapkan model `BaseLine`, `SVD (Matrix Factorization)` dan `KNN` dari library `Surpise`. Library surpise sendiri digunakan untuk sistem rekomendasi. \n",
        "  * **Baseline Model**: Ini adalah algoritma dasar (basic) yang tidak banyak bekerja tetapi masih berguna untuk membandingkan akurasi. Digunakan untuk memprediksi perkiraan dasar untuk pengguna dan item tertentu.\n",
        "  * **SVD Model**: Seperti yang dipopulerkan oleh [Simon Funk](https://sifter.org/~simon/journal/20061211.html) (Netflix Prize). Algoritma ini setara dengan Probabilistic Matrix Factorization [Sumber](https://surprise.readthedocs.io/en/stable/matrix_factorization.html#matrix-factorization-based-algorithms). Singular value decomposition (SVD) adalah metode faktorisasi matriks yang menggeneralisasikan dekomposisi eigen ([eigendecomposition atau eigenvectors/eigenvalues](https://medium.com/swlh/eigenvalues-and-eigenvectors-5fbc8b037eed)) dari matriks persegi (n x n) ke matriks apa pun (n x m) [Sumber](https://en.wikipedia.org/wiki/Singular_value_decomposition). \n",
        "  SVD mirip dengan Principal Component Analysis (PCA) tetapi lebih umum. PCA mengasumsikan bahwa inputannya berupa matriks persegi, SVD tidak memiliki asumsi ini. Secara umum rumusnya adalah `M=UΣVᵗ`. SVD dapat menangani matriks dengan jumlah kolom dan baris yang berbeda. Rumus PCA adalah `M=𝑄𝚲𝑄ᵗ` dimana menguraikan matriks menjadi matriks ortogonal 𝑄 dan matriks diagonal 𝚲. SVD melakukan hal serupa tetapi tidak kembali (return) ke basis yang sama saat memulai transformasi. Tidak bisa dilakukan karena matriks asli M bukan matriks persegi [Sumber](https://towardsdatascience.com/simple-svd-algorithms-13291ad2eef2).\n",
        "  * **KNN Model**: Algoritma k-Nearest Neighbor adalah algoritma supervised\n",
        "learning dimana hasil dari instance yang baru diklasifikasikan berdasarkan mayoritas dari kategori k-tetangga terdekat. Tujuannya adalah untuk mengklasifikasikan obyek baru berdasarkan atribut dan sample-sample dari training data. Algoritma k-Nearest Neighbor menggunakan Neighborhood Classification sebagai nilai prediksi dari nilai instance yang baru.\n",
        "    * Kelebihan:\n",
        "      1. Sangat nonlinear, bersifat nonparametrik dimana didefinisikan sebagai model nonparametrik karena model yang tidak mengasumsikan apa-apa mengenai distribusi instance di dalam dataset.\n",
        "      2. Mudah dipahami dan diimplementasikan.\n",
        "    * Kekurangan:\n",
        "      1. Perlu menunjukkan parameter K (jumlah tetangga terdekat).\n",
        "      2. Tidak menangani nilai hilang (missing value) secara implisit.\n",
        "      3. Sensitif terhadap data pencilan (outlier).\n",
        "      4. Rentan terhadap variabel yang non-informatif.\n",
        "      5. Rentan terhadap dimensionalitas yang tinggi.\n",
        "      6. Rentan terhadap perbedaan rentang variabel.\n",
        "      7. Nilai komputasi yang tinggi. [Sumber](https://informatikalogi.com/algoritma-k-nn-k-nearest-neighbor/#3)"
      ]
    },
    {
      "cell_type": "markdown",
      "metadata": {
        "id": "lwab_6VbXcZQ"
      },
      "source": [
        "## **Data Understanding**"
      ]
    },
    {
      "cell_type": "markdown",
      "metadata": {
        "id": "5dK1BVmjhK4Y"
      },
      "source": [
        "![Dataset](https://raw.githubusercontent.com/gabrielhozana/movie_recommender/main/photo/dataset.png)\n",
        "**Konteks**\n",
        "\n",
        "Dataset [The Movies Dataset](https://www.kaggle.com/rounakbanik/the-movies-dataset) berisi metadata untuk 45.000 film yang terdaftar di Dataset Full MovieLens. Kumpulan data terdiri dari film yang dirilis pada atau sebelum Juli 2017. Dataset berisi cast, crew, plot keywords, budget, revenue, posters, release dates, languages, production companies, countries, penghitungan suara TMDB, dan rata-rata vote.\n",
        "\n",
        "Dataset ini juga memiliki file yang berisi 26 juta ratings dari 270.000 pengguna untuk 45.000 film. Ratings berada pada skala 1-5 dan telah diperoleh dari situs web resmi GroupLens.\n",
        "\n",
        "<br>\n",
        "\n",
        "**Konten**\n",
        "\n",
        "Dataset ini terdiri dari file-file berikut:\n",
        "* movies_metadata.csv: File Metadata Film utama. Berisi informasi tentang 45.000 film dari dataset Full MovieLens. Fitur terdiri dari posters, backdrops, budget, revenue, release dates, languages, production countries dan companies.\n",
        "\n",
        "* keywords.csv: Berisi keyword plot film untuk film MovieLens. Tersedia dalam bentuk Objek JSON.\n",
        "\n",
        "* credits.csv: Terdiri dari Informasi cast dan crew untuk semua film. Tersedia dalam bentuk Objek JSON.\n",
        "\n",
        "* links.csv: File yang berisi ID TMDB dan IMDB dari semua film dari dataset Full MovieLens.\n",
        "\n",
        "* links_small.csv: Berisi ID TMDB dan IMDB dari subset kecil dari 9.000 film dari dataset Lengkap.\n",
        "\n",
        "* ratings_small.csv: Subset dari 100,000 ratings dari 700 pengguna di 9,000 film.\n",
        "\n",
        "\n",
        "**Dataset**\n",
        "\n",
        "Untuk dataset yang digunakan adalah `movies_metadata, keywords, credits, links_small dan ratings_small`. Dimana masing-masing dataset terdapat kolom/fitur yang berbeda. Untuk lebih jelasnya dapat dilihat dibawah ini:\n",
        "\n",
        "1. **movies_metadata**\n",
        "\n",
        "  Terdiri dari 45466 data namun masih terdapat banyak sekali data yang missing value (null/Nan) seperti pada kolom `overview, tagline, title`. Berikut ini adalah uraian beberapa kolom pada dataset yang akan digunakan:\n",
        "  * **id**: merupakan id pada film.\n",
        "  * **title**: merupakan judul pada film.\n",
        "  * **original_title**: merupakan judul asli pada film\n",
        "  * **tagline**: merupakan slogan atau catchphrases untuk film. Tagline dapat merujuk pada plot film.\n",
        "  * **overview**: merupakan gambaran singkat terkait film.\n",
        "  \n",
        "2. **credits**\n",
        "  \n",
        "  Terdiri dari 45476 data dan tidak terdapat missing value (null/nan). Berikut ini adalah uraian kolom pada dataset.\n",
        "  * **cast**: berisi terkait pemeran pada film.\n",
        "  * **crew**: berisi terkait kru pada film.\n",
        "  * **id**: merupakan id pada film.\n",
        "\n",
        "3. **keywords**\n",
        "  \n",
        "  Terdiri dari 46419 data dan tidak terdapat missing value (null/nan). Berikut ini adalah uraian kolom pada dataset.\n",
        "  * **id**: merupakan id pada film.\n",
        "  * **keywords**: berisi berisi kata kunci atau keyword pada film.\n",
        "\n",
        "4. **links_small**\n",
        "  \n",
        "  Terdiri dari 9125 data dan terdapat missing value pada kolom `tmdId`. Berikut ini adalah uraian kolom pada dataset.\n",
        "  * **movieId**: merupakan id pada film.\n",
        "  * **imdbId**: merupakan id pada database IMDB.\n",
        "  * **tmdbId**: merupakan id pada database TMDB.\n",
        "5. **ratings_small**\n",
        "  \n",
        "  Terdiri dari 100004 data dan tidak terdapat missing value (null/nan). Berikut ini adalah uraian kolom pada dataset. \n",
        "  * **userId**: merupakan id pengguna.\n",
        "  * **movieId**: merupakan id pada film.\n",
        "  * **rating**: merupakan rating yang diberikan oleh user terhadap film.\n",
        "  * **timestamp**: berisi timestamp pada film.\n",
        "  \n",
        "  Pada kolom/fitur rating dapat dilihat pada gambar dibawah ini, dimana merupakan visualisasi dari distribusi rating film yang diberikan oleh pengguna. Jika dilihat, nilai rating film terbanyak adalah rating 4.   \n",
        "  ![Rating](https://raw.githubusercontent.com/gabrielhozana/movie_recommender/main/photo/1.png)\n",
        "\n",
        "**Exploratory Data Analysis (EDA)**\n",
        "Dilakukan Exploratory Data Analysis (EDA) untuk mendapatkan sebuah insight dari dataset. Adapun tahapan yang dilakukan adalah:\n",
        "* Melakukan analisis deskriptif `describe`. \n",
        "* Mengecek informasi data `info` dan missing value.\n",
        "* Melakukan visualisasi data pada dataset `ratings`.\n",
        "\n"
      ]
    },
    {
      "cell_type": "markdown",
      "metadata": {
        "id": "ebjkLD49GWUL"
      },
      "source": [
        "### **Exploratory Data Analysis (EDA)**"
      ]
    },
    {
      "cell_type": "markdown",
      "metadata": {
        "id": "3XeKNYUnGaSZ"
      },
      "source": [
        "**Load Dataset**"
      ]
    },
    {
      "cell_type": "markdown",
      "metadata": {
        "id": "H0ej8J6TGctX"
      },
      "source": [
        "Menginstall library kaggle dan mengupload api kaggle untuk dapat mengunduh langsung dataset dari kaggle."
      ]
    },
    {
      "cell_type": "code",
      "metadata": {
        "colab": {
          "resources": {
            "http://localhost:8080/nbextensions/google.colab/files.js": {
              "data": "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",
              "ok": true,
              "headers": [
                [
                  "content-type",
                  "application/javascript"
                ]
              ],
              "status": 200,
              "status_text": "OK"
            }
          },
          "base_uri": "https://localhost:8080/",
          "height": 292
        },
        "id": "gHF956VEGfFX",
        "outputId": "5c167419-6bc2-4f74-fdcc-113aeba388af"
      },
      "source": [
        "!pip install kaggle\n",
        "\n",
        "from google.colab import files\n",
        "\n",
        "uploaded = files.upload()\n",
        "\n",
        "for fn in uploaded.keys():\n",
        "  print('User uploaded file \"{name}\" with length {length} bytes'.format(\n",
        "      name=fn, length=len(uploaded[fn])))\n",
        "  \n",
        "# Then move kaggle.json into the folder where the API expects to find it.\n",
        "!mkdir -p ~/.kaggle/ && mv kaggle.json ~/.kaggle/ && chmod 600 ~/.kaggle/kaggle.json"
      ],
      "execution_count": 1,
      "outputs": [
        {
          "output_type": "stream",
          "name": "stdout",
          "text": [
            "Requirement already satisfied: kaggle in /usr/local/lib/python3.7/dist-packages (1.5.12)\n",
            "Requirement already satisfied: requests in /usr/local/lib/python3.7/dist-packages (from kaggle) (2.23.0)\n",
            "Requirement already satisfied: urllib3 in /usr/local/lib/python3.7/dist-packages (from kaggle) (1.24.3)\n",
            "Requirement already satisfied: six>=1.10 in /usr/local/lib/python3.7/dist-packages (from kaggle) (1.15.0)\n",
            "Requirement already satisfied: python-dateutil in /usr/local/lib/python3.7/dist-packages (from kaggle) (2.8.2)\n",
            "Requirement already satisfied: tqdm in /usr/local/lib/python3.7/dist-packages (from kaggle) (4.62.3)\n",
            "Requirement already satisfied: certifi in /usr/local/lib/python3.7/dist-packages (from kaggle) (2021.5.30)\n",
            "Requirement already satisfied: python-slugify in /usr/local/lib/python3.7/dist-packages (from kaggle) (5.0.2)\n",
            "Requirement already satisfied: text-unidecode>=1.3 in /usr/local/lib/python3.7/dist-packages (from python-slugify->kaggle) (1.3)\n",
            "Requirement already satisfied: idna<3,>=2.5 in /usr/local/lib/python3.7/dist-packages (from requests->kaggle) (2.10)\n",
            "Requirement already satisfied: chardet<4,>=3.0.2 in /usr/local/lib/python3.7/dist-packages (from requests->kaggle) (3.0.4)\n"
          ]
        },
        {
          "output_type": "display_data",
          "data": {
            "text/html": [
              "\n",
              "     <input type=\"file\" id=\"files-9e6eac11-040b-4aac-bb3e-5ad7f1f252ef\" name=\"files[]\" multiple disabled\n",
              "        style=\"border:none\" />\n",
              "     <output id=\"result-9e6eac11-040b-4aac-bb3e-5ad7f1f252ef\">\n",
              "      Upload widget is only available when the cell has been executed in the\n",
              "      current browser session. Please rerun this cell to enable.\n",
              "      </output>\n",
              "      <script src=\"/nbextensions/google.colab/files.js\"></script> "
            ],
            "text/plain": [
              "<IPython.core.display.HTML object>"
            ]
          },
          "metadata": {}
        },
        {
          "output_type": "stream",
          "name": "stdout",
          "text": [
            "Saving kaggle.json to kaggle.json\n",
            "User uploaded file \"kaggle.json\" with length 69 bytes\n"
          ]
        }
      ]
    },
    {
      "cell_type": "markdown",
      "metadata": {
        "id": "mYwiJJZFGn-N"
      },
      "source": [
        "Mengunduh dan mengekstrak dataset movie."
      ]
    },
    {
      "cell_type": "markdown",
      "metadata": {
        "id": "QzY8HGLVGroz"
      },
      "source": [
        "Dengan perintah `%%bash` mengakses langsung dari kernel linux dalam hal ini tanpa perlu menggunakan perintah `!` diawal perintah (command) untuk mengeksekusi sebuah perintah linux. "
      ]
    },
    {
      "cell_type": "markdown",
      "metadata": {
        "id": "gEWjt3gYGt9Y"
      },
      "source": [
        "Untuk dapat mengunduh dataset dari kaggle maka dapat menggunakan perintah (command) `kaggle datasets download` dan disertakan dengan `<user kaggle>/<nama_dataset>`\n",
        "\n",
        "Terakhir mengekstrak dataset dengan perintah `unzip <nama_file>`"
      ]
    },
    {
      "cell_type": "code",
      "metadata": {
        "colab": {
          "base_uri": "https://localhost:8080/"
        },
        "id": "-dkyDiXdGhMc",
        "outputId": "75764f00-19fc-4112-af9e-d1b26635e547"
      },
      "source": [
        "%%bash\n",
        "kaggle datasets download -d rounakbanik/the-movies-dataset\n",
        "\n",
        "unzip the-movies-dataset.zip"
      ],
      "execution_count": 2,
      "outputs": [
        {
          "output_type": "stream",
          "name": "stdout",
          "text": [
            "Downloading the-movies-dataset.zip to /content\n",
            "\n",
            "Archive:  the-movies-dataset.zip\n",
            "  inflating: credits.csv             \n",
            "  inflating: keywords.csv            \n",
            "  inflating: links.csv               \n",
            "  inflating: links_small.csv         \n",
            "  inflating: movies_metadata.csv     \n",
            "  inflating: ratings.csv             \n",
            "  inflating: ratings_small.csv       \n"
          ]
        },
        {
          "output_type": "stream",
          "name": "stderr",
          "text": [
            "\r  0%|          | 0.00/228M [00:00<?, ?B/s]\r  2%|2         | 5.00M/228M [00:00<00:09, 25.2MB/s]\r  4%|3         | 9.00M/228M [00:00<00:17, 13.3MB/s]\r 11%|#         | 25.0M/228M [00:01<00:12, 17.4MB/s]\r 18%|#7        | 41.0M/228M [00:01<00:08, 23.1MB/s]\r 25%|##5       | 57.0M/228M [00:01<00:05, 30.3MB/s]\r 29%|##8       | 65.0M/228M [00:01<00:06, 24.5MB/s]\r 37%|###6      | 84.0M/228M [00:02<00:04, 33.2MB/s]\r 43%|####2     | 97.0M/228M [00:02<00:03, 38.8MB/s]\r 47%|####6     | 106M/228M [00:03<00:05, 23.3MB/s] \r 53%|#####3    | 121M/228M [00:03<00:03, 31.2MB/s]\r 60%|#####9    | 136M/228M [00:03<00:02, 41.1MB/s]\r 65%|######4   | 147M/228M [00:03<00:02, 29.1MB/s]\r 74%|#######4  | 169M/228M [00:04<00:01, 35.2MB/s]\r 78%|#######7  | 177M/228M [00:04<00:01, 41.9MB/s]\r 85%|########4 | 193M/228M [00:04<00:00, 42.7MB/s]\r 88%|########8 | 201M/228M [00:05<00:00, 29.0MB/s]\r 96%|#########6| 219M/228M [00:05<00:00, 38.7MB/s]\r100%|##########| 228M/228M [00:05<00:00, 44.0MB/s]\n"
          ]
        }
      ]
    },
    {
      "cell_type": "markdown",
      "metadata": {
        "id": "fCEQnSq_HmT5"
      },
      "source": [
        "Load library yang diperlukan dalam pengembangan model dan analisa data."
      ]
    },
    {
      "cell_type": "code",
      "metadata": {
        "id": "Bha0SJ-qHPh6",
        "colab": {
          "base_uri": "https://localhost:8080/"
        },
        "outputId": "7fd22501-312a-4791-f024-d2b0a0c505f2"
      },
      "source": [
        "import pandas as pd\n",
        "!pip install surprise\n",
        "from surprise import Reader, Dataset, BaselineOnly,KNNBasic, SVD, accuracy\n",
        "from surprise.model_selection import train_test_split"
      ],
      "execution_count": 3,
      "outputs": [
        {
          "output_type": "stream",
          "name": "stdout",
          "text": [
            "Collecting surprise\n",
            "  Downloading surprise-0.1-py2.py3-none-any.whl (1.8 kB)\n",
            "Collecting scikit-surprise\n",
            "  Downloading scikit-surprise-1.1.1.tar.gz (11.8 MB)\n",
            "\u001b[K     |████████████████████████████████| 11.8 MB 10.8 MB/s \n",
            "\u001b[?25hRequirement already satisfied: joblib>=0.11 in /usr/local/lib/python3.7/dist-packages (from scikit-surprise->surprise) (1.0.1)\n",
            "Requirement already satisfied: numpy>=1.11.2 in /usr/local/lib/python3.7/dist-packages (from scikit-surprise->surprise) (1.19.5)\n",
            "Requirement already satisfied: scipy>=1.0.0 in /usr/local/lib/python3.7/dist-packages (from scikit-surprise->surprise) (1.4.1)\n",
            "Requirement already satisfied: six>=1.10.0 in /usr/local/lib/python3.7/dist-packages (from scikit-surprise->surprise) (1.15.0)\n",
            "Building wheels for collected packages: scikit-surprise\n",
            "  Building wheel for scikit-surprise (setup.py) ... \u001b[?25l\u001b[?25hdone\n",
            "  Created wheel for scikit-surprise: filename=scikit_surprise-1.1.1-cp37-cp37m-linux_x86_64.whl size=1619437 sha256=3d1e3f3f12f79b7050a11cdfe6ce1ec130d6b93b2a5c8f7fdf131b289c73c50f\n",
            "  Stored in directory: /root/.cache/pip/wheels/76/44/74/b498c42be47b2406bd27994e16c5188e337c657025ab400c1c\n",
            "Successfully built scikit-surprise\n",
            "Installing collected packages: scikit-surprise, surprise\n",
            "Successfully installed scikit-surprise-1.1.1 surprise-0.1\n"
          ]
        }
      ]
    },
    {
      "cell_type": "code",
      "metadata": {
        "colab": {
          "base_uri": "https://localhost:8080/"
        },
        "id": "mCLZeXUYHsqA",
        "outputId": "b7f1d344-0185-4f63-94b4-face864241ec"
      },
      "source": [
        "movies = pd.read_csv('movies_metadata.csv')\n",
        "ratings = pd.read_csv('ratings_small.csv')\n",
        "credits = pd.read_csv('credits.csv')\n",
        "keywords = pd.read_csv('keywords.csv')\n",
        "links = pd.read_csv('links_small.csv')"
      ],
      "execution_count": 4,
      "outputs": [
        {
          "output_type": "stream",
          "name": "stderr",
          "text": [
            "/usr/local/lib/python3.7/dist-packages/IPython/core/interactiveshell.py:2718: DtypeWarning: Columns (10) have mixed types.Specify dtype option on import or set low_memory=False.\n",
            "  interactivity=interactivity, compiler=compiler, result=result)\n"
          ]
        }
      ]
    },
    {
      "cell_type": "markdown",
      "metadata": {
        "id": "glL2-9YIZGpl"
      },
      "source": [
        "**Check Dataset**"
      ]
    },
    {
      "cell_type": "code",
      "metadata": {
        "colab": {
          "base_uri": "https://localhost:8080/"
        },
        "id": "klI32b2ZY2LV",
        "outputId": "d109fcea-abd2-463f-d525-ebe29d8830f7"
      },
      "source": [
        "print('Movie',movies.shape)\n",
        "print('Credits',credits.shape)\n",
        "print('Keywords',keywords.shape)\n",
        "print('Links',links.shape)\n",
        "print('Ratings',ratings.shape)"
      ],
      "execution_count": 5,
      "outputs": [
        {
          "output_type": "stream",
          "name": "stdout",
          "text": [
            "Movie (45466, 24)\n",
            "Credits (45476, 3)\n",
            "Keywords (46419, 2)\n",
            "Links (9125, 3)\n",
            "Ratings (100004, 4)\n"
          ]
        }
      ]
    },
    {
      "cell_type": "markdown",
      "metadata": {
        "id": "OtBahU04_jYp"
      },
      "source": [
        "**Movies Metadata**"
      ]
    },
    {
      "cell_type": "code",
      "metadata": {
        "colab": {
          "base_uri": "https://localhost:8080/"
        },
        "id": "R_bYYu2NbrRf",
        "outputId": "be5f1c62-459c-4c65-9867-5b5a1a9b63f6"
      },
      "source": [
        "movies.info()"
      ],
      "execution_count": 6,
      "outputs": [
        {
          "output_type": "stream",
          "name": "stdout",
          "text": [
            "<class 'pandas.core.frame.DataFrame'>\n",
            "RangeIndex: 45466 entries, 0 to 45465\n",
            "Data columns (total 24 columns):\n",
            " #   Column                 Non-Null Count  Dtype  \n",
            "---  ------                 --------------  -----  \n",
            " 0   adult                  45466 non-null  object \n",
            " 1   belongs_to_collection  4494 non-null   object \n",
            " 2   budget                 45466 non-null  object \n",
            " 3   genres                 45466 non-null  object \n",
            " 4   homepage               7782 non-null   object \n",
            " 5   id                     45466 non-null  object \n",
            " 6   imdb_id                45449 non-null  object \n",
            " 7   original_language      45455 non-null  object \n",
            " 8   original_title         45466 non-null  object \n",
            " 9   overview               44512 non-null  object \n",
            " 10  popularity             45461 non-null  object \n",
            " 11  poster_path            45080 non-null  object \n",
            " 12  production_companies   45463 non-null  object \n",
            " 13  production_countries   45463 non-null  object \n",
            " 14  release_date           45379 non-null  object \n",
            " 15  revenue                45460 non-null  float64\n",
            " 16  runtime                45203 non-null  float64\n",
            " 17  spoken_languages       45460 non-null  object \n",
            " 18  status                 45379 non-null  object \n",
            " 19  tagline                20412 non-null  object \n",
            " 20  title                  45460 non-null  object \n",
            " 21  video                  45460 non-null  object \n",
            " 22  vote_average           45460 non-null  float64\n",
            " 23  vote_count             45460 non-null  float64\n",
            "dtypes: float64(4), object(20)\n",
            "memory usage: 8.3+ MB\n"
          ]
        }
      ]
    },
    {
      "cell_type": "markdown",
      "metadata": {
        "id": "q__UXp1-GbM_"
      },
      "source": [
        "Terdapat banyak data missing value hampir disetiap kolom."
      ]
    },
    {
      "cell_type": "code",
      "metadata": {
        "colab": {
          "base_uri": "https://localhost:8080/",
          "height": 678
        },
        "id": "draYiAHUG0wB",
        "outputId": "91d5a940-cc37-492a-aca6-522b7e6a2504"
      },
      "source": [
        "movies.head()"
      ],
      "execution_count": 7,
      "outputs": [
        {
          "output_type": "execute_result",
          "data": {
            "text/html": [
              "<div>\n",
              "<style scoped>\n",
              "    .dataframe tbody tr th:only-of-type {\n",
              "        vertical-align: middle;\n",
              "    }\n",
              "\n",
              "    .dataframe tbody tr th {\n",
              "        vertical-align: top;\n",
              "    }\n",
              "\n",
              "    .dataframe thead th {\n",
              "        text-align: right;\n",
              "    }\n",
              "</style>\n",
              "<table border=\"1\" class=\"dataframe\">\n",
              "  <thead>\n",
              "    <tr style=\"text-align: right;\">\n",
              "      <th></th>\n",
              "      <th>adult</th>\n",
              "      <th>belongs_to_collection</th>\n",
              "      <th>budget</th>\n",
              "      <th>genres</th>\n",
              "      <th>homepage</th>\n",
              "      <th>id</th>\n",
              "      <th>imdb_id</th>\n",
              "      <th>original_language</th>\n",
              "      <th>original_title</th>\n",
              "      <th>overview</th>\n",
              "      <th>popularity</th>\n",
              "      <th>poster_path</th>\n",
              "      <th>production_companies</th>\n",
              "      <th>production_countries</th>\n",
              "      <th>release_date</th>\n",
              "      <th>revenue</th>\n",
              "      <th>runtime</th>\n",
              "      <th>spoken_languages</th>\n",
              "      <th>status</th>\n",
              "      <th>tagline</th>\n",
              "      <th>title</th>\n",
              "      <th>video</th>\n",
              "      <th>vote_average</th>\n",
              "      <th>vote_count</th>\n",
              "    </tr>\n",
              "  </thead>\n",
              "  <tbody>\n",
              "    <tr>\n",
              "      <th>0</th>\n",
              "      <td>False</td>\n",
              "      <td>{'id': 10194, 'name': 'Toy Story Collection', ...</td>\n",
              "      <td>30000000</td>\n",
              "      <td>[{'id': 16, 'name': 'Animation'}, {'id': 35, '...</td>\n",
              "      <td>http://toystory.disney.com/toy-story</td>\n",
              "      <td>862</td>\n",
              "      <td>tt0114709</td>\n",
              "      <td>en</td>\n",
              "      <td>Toy Story</td>\n",
              "      <td>Led by Woody, Andy's toys live happily in his ...</td>\n",
              "      <td>21.9469</td>\n",
              "      <td>/rhIRbceoE9lR4veEXuwCC2wARtG.jpg</td>\n",
              "      <td>[{'name': 'Pixar Animation Studios', 'id': 3}]</td>\n",
              "      <td>[{'iso_3166_1': 'US', 'name': 'United States o...</td>\n",
              "      <td>1995-10-30</td>\n",
              "      <td>373554033.0</td>\n",
              "      <td>81.0</td>\n",
              "      <td>[{'iso_639_1': 'en', 'name': 'English'}]</td>\n",
              "      <td>Released</td>\n",
              "      <td>NaN</td>\n",
              "      <td>Toy Story</td>\n",
              "      <td>False</td>\n",
              "      <td>7.7</td>\n",
              "      <td>5415.0</td>\n",
              "    </tr>\n",
              "    <tr>\n",
              "      <th>1</th>\n",
              "      <td>False</td>\n",
              "      <td>NaN</td>\n",
              "      <td>65000000</td>\n",
              "      <td>[{'id': 12, 'name': 'Adventure'}, {'id': 14, '...</td>\n",
              "      <td>NaN</td>\n",
              "      <td>8844</td>\n",
              "      <td>tt0113497</td>\n",
              "      <td>en</td>\n",
              "      <td>Jumanji</td>\n",
              "      <td>When siblings Judy and Peter discover an encha...</td>\n",
              "      <td>17.0155</td>\n",
              "      <td>/vzmL6fP7aPKNKPRTFnZmiUfciyV.jpg</td>\n",
              "      <td>[{'name': 'TriStar Pictures', 'id': 559}, {'na...</td>\n",
              "      <td>[{'iso_3166_1': 'US', 'name': 'United States o...</td>\n",
              "      <td>1995-12-15</td>\n",
              "      <td>262797249.0</td>\n",
              "      <td>104.0</td>\n",
              "      <td>[{'iso_639_1': 'en', 'name': 'English'}, {'iso...</td>\n",
              "      <td>Released</td>\n",
              "      <td>Roll the dice and unleash the excitement!</td>\n",
              "      <td>Jumanji</td>\n",
              "      <td>False</td>\n",
              "      <td>6.9</td>\n",
              "      <td>2413.0</td>\n",
              "    </tr>\n",
              "    <tr>\n",
              "      <th>2</th>\n",
              "      <td>False</td>\n",
              "      <td>{'id': 119050, 'name': 'Grumpy Old Men Collect...</td>\n",
              "      <td>0</td>\n",
              "      <td>[{'id': 10749, 'name': 'Romance'}, {'id': 35, ...</td>\n",
              "      <td>NaN</td>\n",
              "      <td>15602</td>\n",
              "      <td>tt0113228</td>\n",
              "      <td>en</td>\n",
              "      <td>Grumpier Old Men</td>\n",
              "      <td>A family wedding reignites the ancient feud be...</td>\n",
              "      <td>11.7129</td>\n",
              "      <td>/6ksm1sjKMFLbO7UY2i6G1ju9SML.jpg</td>\n",
              "      <td>[{'name': 'Warner Bros.', 'id': 6194}, {'name'...</td>\n",
              "      <td>[{'iso_3166_1': 'US', 'name': 'United States o...</td>\n",
              "      <td>1995-12-22</td>\n",
              "      <td>0.0</td>\n",
              "      <td>101.0</td>\n",
              "      <td>[{'iso_639_1': 'en', 'name': 'English'}]</td>\n",
              "      <td>Released</td>\n",
              "      <td>Still Yelling. Still Fighting. Still Ready for...</td>\n",
              "      <td>Grumpier Old Men</td>\n",
              "      <td>False</td>\n",
              "      <td>6.5</td>\n",
              "      <td>92.0</td>\n",
              "    </tr>\n",
              "    <tr>\n",
              "      <th>3</th>\n",
              "      <td>False</td>\n",
              "      <td>NaN</td>\n",
              "      <td>16000000</td>\n",
              "      <td>[{'id': 35, 'name': 'Comedy'}, {'id': 18, 'nam...</td>\n",
              "      <td>NaN</td>\n",
              "      <td>31357</td>\n",
              "      <td>tt0114885</td>\n",
              "      <td>en</td>\n",
              "      <td>Waiting to Exhale</td>\n",
              "      <td>Cheated on, mistreated and stepped on, the wom...</td>\n",
              "      <td>3.85949</td>\n",
              "      <td>/16XOMpEaLWkrcPqSQqhTmeJuqQl.jpg</td>\n",
              "      <td>[{'name': 'Twentieth Century Fox Film Corporat...</td>\n",
              "      <td>[{'iso_3166_1': 'US', 'name': 'United States o...</td>\n",
              "      <td>1995-12-22</td>\n",
              "      <td>81452156.0</td>\n",
              "      <td>127.0</td>\n",
              "      <td>[{'iso_639_1': 'en', 'name': 'English'}]</td>\n",
              "      <td>Released</td>\n",
              "      <td>Friends are the people who let you be yourself...</td>\n",
              "      <td>Waiting to Exhale</td>\n",
              "      <td>False</td>\n",
              "      <td>6.1</td>\n",
              "      <td>34.0</td>\n",
              "    </tr>\n",
              "    <tr>\n",
              "      <th>4</th>\n",
              "      <td>False</td>\n",
              "      <td>{'id': 96871, 'name': 'Father of the Bride Col...</td>\n",
              "      <td>0</td>\n",
              "      <td>[{'id': 35, 'name': 'Comedy'}]</td>\n",
              "      <td>NaN</td>\n",
              "      <td>11862</td>\n",
              "      <td>tt0113041</td>\n",
              "      <td>en</td>\n",
              "      <td>Father of the Bride Part II</td>\n",
              "      <td>Just when George Banks has recovered from his ...</td>\n",
              "      <td>8.38752</td>\n",
              "      <td>/e64sOI48hQXyru7naBFyssKFxVd.jpg</td>\n",
              "      <td>[{'name': 'Sandollar Productions', 'id': 5842}...</td>\n",
              "      <td>[{'iso_3166_1': 'US', 'name': 'United States o...</td>\n",
              "      <td>1995-02-10</td>\n",
              "      <td>76578911.0</td>\n",
              "      <td>106.0</td>\n",
              "      <td>[{'iso_639_1': 'en', 'name': 'English'}]</td>\n",
              "      <td>Released</td>\n",
              "      <td>Just When His World Is Back To Normal... He's ...</td>\n",
              "      <td>Father of the Bride Part II</td>\n",
              "      <td>False</td>\n",
              "      <td>5.7</td>\n",
              "      <td>173.0</td>\n",
              "    </tr>\n",
              "  </tbody>\n",
              "</table>\n",
              "</div>"
            ],
            "text/plain": [
              "   adult  ... vote_count\n",
              "0  False  ...     5415.0\n",
              "1  False  ...     2413.0\n",
              "2  False  ...       92.0\n",
              "3  False  ...       34.0\n",
              "4  False  ...      173.0\n",
              "\n",
              "[5 rows x 24 columns]"
            ]
          },
          "metadata": {},
          "execution_count": 7
        }
      ]
    },
    {
      "cell_type": "markdown",
      "metadata": {
        "id": "TRL2O1J6KN3A"
      },
      "source": [
        "Ada beberapa kolom yang dapat digunakan untuk membuat sistem rekomendasi, namun kita akan mempertimbangkan terkait kolom/fitur title, overview dan tagline"
      ]
    },
    {
      "cell_type": "code",
      "metadata": {
        "colab": {
          "base_uri": "https://localhost:8080/"
        },
        "id": "m8juSsUBICQ_",
        "outputId": "1cd0001b-d997-45be-805e-8c103f059c7d"
      },
      "source": [
        "movies[['id','title','overview','tagline']].isnull().sum()"
      ],
      "execution_count": 8,
      "outputs": [
        {
          "output_type": "execute_result",
          "data": {
            "text/plain": [
              "id              0\n",
              "title           6\n",
              "overview      954\n",
              "tagline     25054\n",
              "dtype: int64"
            ]
          },
          "metadata": {},
          "execution_count": 8
        }
      ]
    },
    {
      "cell_type": "code",
      "metadata": {
        "colab": {
          "base_uri": "https://localhost:8080/"
        },
        "id": "8zZvJBBWLc5x",
        "outputId": "c5282560-b6fb-4ab3-c09f-78ab93487346"
      },
      "source": [
        "print('Jumlah ID:', len(movies.id.unique()))\n",
        "print('Jumlah Title:', len(movies.title.unique()))\n",
        "print('Jumlah Overview:', len(movies.overview.unique()))\n",
        "print('Jumlah Tagline:', len(movies.tagline.unique()))"
      ],
      "execution_count": 9,
      "outputs": [
        {
          "output_type": "stream",
          "name": "stdout",
          "text": [
            "Jumlah ID: 45436\n",
            "Jumlah Title: 42278\n",
            "Jumlah Overview: 44308\n",
            "Jumlah Tagline: 20284\n"
          ]
        }
      ]
    },
    {
      "cell_type": "markdown",
      "metadata": {
        "id": "7OnaYo-tMziS"
      },
      "source": [
        "**Credits**"
      ]
    },
    {
      "cell_type": "code",
      "metadata": {
        "colab": {
          "base_uri": "https://localhost:8080/"
        },
        "id": "oQWLrgLYfm0Y",
        "outputId": "10c391a5-d5a4-4dfe-d141-8d8aba6ddffd"
      },
      "source": [
        "credits.info()"
      ],
      "execution_count": 10,
      "outputs": [
        {
          "output_type": "stream",
          "name": "stdout",
          "text": [
            "<class 'pandas.core.frame.DataFrame'>\n",
            "RangeIndex: 45476 entries, 0 to 45475\n",
            "Data columns (total 3 columns):\n",
            " #   Column  Non-Null Count  Dtype \n",
            "---  ------  --------------  ----- \n",
            " 0   cast    45476 non-null  object\n",
            " 1   crew    45476 non-null  object\n",
            " 2   id      45476 non-null  int64 \n",
            "dtypes: int64(1), object(2)\n",
            "memory usage: 1.0+ MB\n"
          ]
        }
      ]
    },
    {
      "cell_type": "markdown",
      "metadata": {
        "id": "Pe03xqTEGtxx"
      },
      "source": [
        "Tidak terdapat missing value pada dataset credits."
      ]
    },
    {
      "cell_type": "code",
      "metadata": {
        "colab": {
          "base_uri": "https://localhost:8080/",
          "height": 206
        },
        "id": "MquNwfkyM3yG",
        "outputId": "d2bacd80-936b-47cb-93b3-a77a8f019fc7"
      },
      "source": [
        "credits.head()"
      ],
      "execution_count": 11,
      "outputs": [
        {
          "output_type": "execute_result",
          "data": {
            "text/html": [
              "<div>\n",
              "<style scoped>\n",
              "    .dataframe tbody tr th:only-of-type {\n",
              "        vertical-align: middle;\n",
              "    }\n",
              "\n",
              "    .dataframe tbody tr th {\n",
              "        vertical-align: top;\n",
              "    }\n",
              "\n",
              "    .dataframe thead th {\n",
              "        text-align: right;\n",
              "    }\n",
              "</style>\n",
              "<table border=\"1\" class=\"dataframe\">\n",
              "  <thead>\n",
              "    <tr style=\"text-align: right;\">\n",
              "      <th></th>\n",
              "      <th>cast</th>\n",
              "      <th>crew</th>\n",
              "      <th>id</th>\n",
              "    </tr>\n",
              "  </thead>\n",
              "  <tbody>\n",
              "    <tr>\n",
              "      <th>0</th>\n",
              "      <td>[{'cast_id': 14, 'character': 'Woody (voice)',...</td>\n",
              "      <td>[{'credit_id': '52fe4284c3a36847f8024f49', 'de...</td>\n",
              "      <td>862</td>\n",
              "    </tr>\n",
              "    <tr>\n",
              "      <th>1</th>\n",
              "      <td>[{'cast_id': 1, 'character': 'Alan Parrish', '...</td>\n",
              "      <td>[{'credit_id': '52fe44bfc3a36847f80a7cd1', 'de...</td>\n",
              "      <td>8844</td>\n",
              "    </tr>\n",
              "    <tr>\n",
              "      <th>2</th>\n",
              "      <td>[{'cast_id': 2, 'character': 'Max Goldman', 'c...</td>\n",
              "      <td>[{'credit_id': '52fe466a9251416c75077a89', 'de...</td>\n",
              "      <td>15602</td>\n",
              "    </tr>\n",
              "    <tr>\n",
              "      <th>3</th>\n",
              "      <td>[{'cast_id': 1, 'character': \"Savannah 'Vannah...</td>\n",
              "      <td>[{'credit_id': '52fe44779251416c91011acb', 'de...</td>\n",
              "      <td>31357</td>\n",
              "    </tr>\n",
              "    <tr>\n",
              "      <th>4</th>\n",
              "      <td>[{'cast_id': 1, 'character': 'George Banks', '...</td>\n",
              "      <td>[{'credit_id': '52fe44959251416c75039ed7', 'de...</td>\n",
              "      <td>11862</td>\n",
              "    </tr>\n",
              "  </tbody>\n",
              "</table>\n",
              "</div>"
            ],
            "text/plain": [
              "                                                cast  ...     id\n",
              "0  [{'cast_id': 14, 'character': 'Woody (voice)',...  ...    862\n",
              "1  [{'cast_id': 1, 'character': 'Alan Parrish', '...  ...   8844\n",
              "2  [{'cast_id': 2, 'character': 'Max Goldman', 'c...  ...  15602\n",
              "3  [{'cast_id': 1, 'character': \"Savannah 'Vannah...  ...  31357\n",
              "4  [{'cast_id': 1, 'character': 'George Banks', '...  ...  11862\n",
              "\n",
              "[5 rows x 3 columns]"
            ]
          },
          "metadata": {},
          "execution_count": 11
        }
      ]
    },
    {
      "cell_type": "markdown",
      "metadata": {
        "id": "8t5R1vDpGzTl"
      },
      "source": [
        "Jika dilihat, datanya berupa data object json."
      ]
    },
    {
      "cell_type": "code",
      "metadata": {
        "colab": {
          "base_uri": "https://localhost:8080/"
        },
        "id": "wEx5AueCRcLH",
        "outputId": "6ea0eca2-a393-44af-fa73-3beaf9cea95b"
      },
      "source": [
        "credits.isnull().sum()"
      ],
      "execution_count": 12,
      "outputs": [
        {
          "output_type": "execute_result",
          "data": {
            "text/plain": [
              "cast    0\n",
              "crew    0\n",
              "id      0\n",
              "dtype: int64"
            ]
          },
          "metadata": {},
          "execution_count": 12
        }
      ]
    },
    {
      "cell_type": "markdown",
      "metadata": {
        "id": "J8EWuJfTNI3e"
      },
      "source": [
        "**Keywords**"
      ]
    },
    {
      "cell_type": "code",
      "metadata": {
        "colab": {
          "base_uri": "https://localhost:8080/"
        },
        "id": "CkbB9Urgfq_m",
        "outputId": "ecdb2eb3-6498-4775-f2a6-f2ef3e2bccb3"
      },
      "source": [
        "keywords.info()"
      ],
      "execution_count": 13,
      "outputs": [
        {
          "output_type": "stream",
          "name": "stdout",
          "text": [
            "<class 'pandas.core.frame.DataFrame'>\n",
            "RangeIndex: 46419 entries, 0 to 46418\n",
            "Data columns (total 2 columns):\n",
            " #   Column    Non-Null Count  Dtype \n",
            "---  ------    --------------  ----- \n",
            " 0   id        46419 non-null  int64 \n",
            " 1   keywords  46419 non-null  object\n",
            "dtypes: int64(1), object(1)\n",
            "memory usage: 725.4+ KB\n"
          ]
        }
      ]
    },
    {
      "cell_type": "markdown",
      "metadata": {
        "id": "wxpxAfjUG7bi"
      },
      "source": [
        "Tidak terdapat missing value."
      ]
    },
    {
      "cell_type": "code",
      "metadata": {
        "colab": {
          "base_uri": "https://localhost:8080/",
          "height": 206
        },
        "id": "sKTgy8krNNT6",
        "outputId": "fa068eb1-e361-417c-bc20-721df5087927"
      },
      "source": [
        "keywords.head()"
      ],
      "execution_count": 14,
      "outputs": [
        {
          "output_type": "execute_result",
          "data": {
            "text/html": [
              "<div>\n",
              "<style scoped>\n",
              "    .dataframe tbody tr th:only-of-type {\n",
              "        vertical-align: middle;\n",
              "    }\n",
              "\n",
              "    .dataframe tbody tr th {\n",
              "        vertical-align: top;\n",
              "    }\n",
              "\n",
              "    .dataframe thead th {\n",
              "        text-align: right;\n",
              "    }\n",
              "</style>\n",
              "<table border=\"1\" class=\"dataframe\">\n",
              "  <thead>\n",
              "    <tr style=\"text-align: right;\">\n",
              "      <th></th>\n",
              "      <th>id</th>\n",
              "      <th>keywords</th>\n",
              "    </tr>\n",
              "  </thead>\n",
              "  <tbody>\n",
              "    <tr>\n",
              "      <th>0</th>\n",
              "      <td>862</td>\n",
              "      <td>[{'id': 931, 'name': 'jealousy'}, {'id': 4290,...</td>\n",
              "    </tr>\n",
              "    <tr>\n",
              "      <th>1</th>\n",
              "      <td>8844</td>\n",
              "      <td>[{'id': 10090, 'name': 'board game'}, {'id': 1...</td>\n",
              "    </tr>\n",
              "    <tr>\n",
              "      <th>2</th>\n",
              "      <td>15602</td>\n",
              "      <td>[{'id': 1495, 'name': 'fishing'}, {'id': 12392...</td>\n",
              "    </tr>\n",
              "    <tr>\n",
              "      <th>3</th>\n",
              "      <td>31357</td>\n",
              "      <td>[{'id': 818, 'name': 'based on novel'}, {'id':...</td>\n",
              "    </tr>\n",
              "    <tr>\n",
              "      <th>4</th>\n",
              "      <td>11862</td>\n",
              "      <td>[{'id': 1009, 'name': 'baby'}, {'id': 1599, 'n...</td>\n",
              "    </tr>\n",
              "  </tbody>\n",
              "</table>\n",
              "</div>"
            ],
            "text/plain": [
              "      id                                           keywords\n",
              "0    862  [{'id': 931, 'name': 'jealousy'}, {'id': 4290,...\n",
              "1   8844  [{'id': 10090, 'name': 'board game'}, {'id': 1...\n",
              "2  15602  [{'id': 1495, 'name': 'fishing'}, {'id': 12392...\n",
              "3  31357  [{'id': 818, 'name': 'based on novel'}, {'id':...\n",
              "4  11862  [{'id': 1009, 'name': 'baby'}, {'id': 1599, 'n..."
            ]
          },
          "metadata": {},
          "execution_count": 14
        }
      ]
    },
    {
      "cell_type": "markdown",
      "metadata": {
        "id": "pEV6cpiSG_kk"
      },
      "source": [
        "Data berupa data object json."
      ]
    },
    {
      "cell_type": "code",
      "metadata": {
        "colab": {
          "base_uri": "https://localhost:8080/"
        },
        "id": "K9zQ-Rw7Rekw",
        "outputId": "8d8a7b15-854f-4370-8003-3a76689035ce"
      },
      "source": [
        "keywords.isnull().sum()"
      ],
      "execution_count": 15,
      "outputs": [
        {
          "output_type": "execute_result",
          "data": {
            "text/plain": [
              "id          0\n",
              "keywords    0\n",
              "dtype: int64"
            ]
          },
          "metadata": {},
          "execution_count": 15
        }
      ]
    },
    {
      "cell_type": "markdown",
      "metadata": {
        "id": "lNS58N_gOKNd"
      },
      "source": [
        "**Links Small**"
      ]
    },
    {
      "cell_type": "code",
      "metadata": {
        "id": "lVtDTOW_gZtO",
        "colab": {
          "base_uri": "https://localhost:8080/"
        },
        "outputId": "dac9d10f-2e86-47ee-d009-e980c726669d"
      },
      "source": [
        "links.info()"
      ],
      "execution_count": 16,
      "outputs": [
        {
          "output_type": "stream",
          "name": "stdout",
          "text": [
            "<class 'pandas.core.frame.DataFrame'>\n",
            "RangeIndex: 9125 entries, 0 to 9124\n",
            "Data columns (total 3 columns):\n",
            " #   Column   Non-Null Count  Dtype  \n",
            "---  ------   --------------  -----  \n",
            " 0   movieId  9125 non-null   int64  \n",
            " 1   imdbId   9125 non-null   int64  \n",
            " 2   tmdbId   9112 non-null   float64\n",
            "dtypes: float64(1), int64(2)\n",
            "memory usage: 214.0 KB\n"
          ]
        }
      ]
    },
    {
      "cell_type": "markdown",
      "metadata": {
        "id": "N4Pzxi61HDSx"
      },
      "source": [
        "Terdapat missing value pada kolom `tmdbId`."
      ]
    },
    {
      "cell_type": "code",
      "metadata": {
        "colab": {
          "base_uri": "https://localhost:8080/",
          "height": 300
        },
        "id": "fz-VnHJzpukq",
        "outputId": "a50ef425-1417-401f-8186-4f32fee41e0c"
      },
      "source": [
        "links.describe()"
      ],
      "execution_count": 17,
      "outputs": [
        {
          "output_type": "execute_result",
          "data": {
            "text/html": [
              "<div>\n",
              "<style scoped>\n",
              "    .dataframe tbody tr th:only-of-type {\n",
              "        vertical-align: middle;\n",
              "    }\n",
              "\n",
              "    .dataframe tbody tr th {\n",
              "        vertical-align: top;\n",
              "    }\n",
              "\n",
              "    .dataframe thead th {\n",
              "        text-align: right;\n",
              "    }\n",
              "</style>\n",
              "<table border=\"1\" class=\"dataframe\">\n",
              "  <thead>\n",
              "    <tr style=\"text-align: right;\">\n",
              "      <th></th>\n",
              "      <th>movieId</th>\n",
              "      <th>imdbId</th>\n",
              "      <th>tmdbId</th>\n",
              "    </tr>\n",
              "  </thead>\n",
              "  <tbody>\n",
              "    <tr>\n",
              "      <th>count</th>\n",
              "      <td>9125.000000</td>\n",
              "      <td>9.125000e+03</td>\n",
              "      <td>9112.000000</td>\n",
              "    </tr>\n",
              "    <tr>\n",
              "      <th>mean</th>\n",
              "      <td>31123.291836</td>\n",
              "      <td>4.798244e+05</td>\n",
              "      <td>39104.545544</td>\n",
              "    </tr>\n",
              "    <tr>\n",
              "      <th>std</th>\n",
              "      <td>40782.633604</td>\n",
              "      <td>7.431774e+05</td>\n",
              "      <td>62814.519801</td>\n",
              "    </tr>\n",
              "    <tr>\n",
              "      <th>min</th>\n",
              "      <td>1.000000</td>\n",
              "      <td>4.170000e+02</td>\n",
              "      <td>2.000000</td>\n",
              "    </tr>\n",
              "    <tr>\n",
              "      <th>25%</th>\n",
              "      <td>2850.000000</td>\n",
              "      <td>8.884600e+04</td>\n",
              "      <td>9451.750000</td>\n",
              "    </tr>\n",
              "    <tr>\n",
              "      <th>50%</th>\n",
              "      <td>6290.000000</td>\n",
              "      <td>1.197780e+05</td>\n",
              "      <td>15852.000000</td>\n",
              "    </tr>\n",
              "    <tr>\n",
              "      <th>75%</th>\n",
              "      <td>56274.000000</td>\n",
              "      <td>4.284410e+05</td>\n",
              "      <td>39160.500000</td>\n",
              "    </tr>\n",
              "    <tr>\n",
              "      <th>max</th>\n",
              "      <td>164979.000000</td>\n",
              "      <td>5.794766e+06</td>\n",
              "      <td>416437.000000</td>\n",
              "    </tr>\n",
              "  </tbody>\n",
              "</table>\n",
              "</div>"
            ],
            "text/plain": [
              "             movieId        imdbId         tmdbId\n",
              "count    9125.000000  9.125000e+03    9112.000000\n",
              "mean    31123.291836  4.798244e+05   39104.545544\n",
              "std     40782.633604  7.431774e+05   62814.519801\n",
              "min         1.000000  4.170000e+02       2.000000\n",
              "25%      2850.000000  8.884600e+04    9451.750000\n",
              "50%      6290.000000  1.197780e+05   15852.000000\n",
              "75%     56274.000000  4.284410e+05   39160.500000\n",
              "max    164979.000000  5.794766e+06  416437.000000"
            ]
          },
          "metadata": {},
          "execution_count": 17
        }
      ]
    },
    {
      "cell_type": "code",
      "metadata": {
        "colab": {
          "base_uri": "https://localhost:8080/",
          "height": 206
        },
        "id": "7zLsh8hFON28",
        "outputId": "1141f8d5-a3d2-4aef-df65-511ad4806df4"
      },
      "source": [
        "links.head()"
      ],
      "execution_count": 18,
      "outputs": [
        {
          "output_type": "execute_result",
          "data": {
            "text/html": [
              "<div>\n",
              "<style scoped>\n",
              "    .dataframe tbody tr th:only-of-type {\n",
              "        vertical-align: middle;\n",
              "    }\n",
              "\n",
              "    .dataframe tbody tr th {\n",
              "        vertical-align: top;\n",
              "    }\n",
              "\n",
              "    .dataframe thead th {\n",
              "        text-align: right;\n",
              "    }\n",
              "</style>\n",
              "<table border=\"1\" class=\"dataframe\">\n",
              "  <thead>\n",
              "    <tr style=\"text-align: right;\">\n",
              "      <th></th>\n",
              "      <th>movieId</th>\n",
              "      <th>imdbId</th>\n",
              "      <th>tmdbId</th>\n",
              "    </tr>\n",
              "  </thead>\n",
              "  <tbody>\n",
              "    <tr>\n",
              "      <th>0</th>\n",
              "      <td>1</td>\n",
              "      <td>114709</td>\n",
              "      <td>862.0</td>\n",
              "    </tr>\n",
              "    <tr>\n",
              "      <th>1</th>\n",
              "      <td>2</td>\n",
              "      <td>113497</td>\n",
              "      <td>8844.0</td>\n",
              "    </tr>\n",
              "    <tr>\n",
              "      <th>2</th>\n",
              "      <td>3</td>\n",
              "      <td>113228</td>\n",
              "      <td>15602.0</td>\n",
              "    </tr>\n",
              "    <tr>\n",
              "      <th>3</th>\n",
              "      <td>4</td>\n",
              "      <td>114885</td>\n",
              "      <td>31357.0</td>\n",
              "    </tr>\n",
              "    <tr>\n",
              "      <th>4</th>\n",
              "      <td>5</td>\n",
              "      <td>113041</td>\n",
              "      <td>11862.0</td>\n",
              "    </tr>\n",
              "  </tbody>\n",
              "</table>\n",
              "</div>"
            ],
            "text/plain": [
              "   movieId  imdbId   tmdbId\n",
              "0        1  114709    862.0\n",
              "1        2  113497   8844.0\n",
              "2        3  113228  15602.0\n",
              "3        4  114885  31357.0\n",
              "4        5  113041  11862.0"
            ]
          },
          "metadata": {},
          "execution_count": 18
        }
      ]
    },
    {
      "cell_type": "code",
      "metadata": {
        "colab": {
          "base_uri": "https://localhost:8080/"
        },
        "id": "Y9WpNi27RhBv",
        "outputId": "e63fccd6-8fd0-49b9-c92c-4a28d7dbc817"
      },
      "source": [
        "links.isnull().sum()"
      ],
      "execution_count": 19,
      "outputs": [
        {
          "output_type": "execute_result",
          "data": {
            "text/plain": [
              "movieId     0\n",
              "imdbId      0\n",
              "tmdbId     13\n",
              "dtype: int64"
            ]
          },
          "metadata": {},
          "execution_count": 19
        }
      ]
    },
    {
      "cell_type": "markdown",
      "metadata": {
        "id": "mZE1vehmORXq"
      },
      "source": [
        "**Ratings Small**"
      ]
    },
    {
      "cell_type": "code",
      "metadata": {
        "colab": {
          "base_uri": "https://localhost:8080/"
        },
        "id": "PCiDD8JWOT3A",
        "outputId": "9b1321be-3b6a-4018-a21c-63220b668dc0"
      },
      "source": [
        "ratings.info()"
      ],
      "execution_count": 20,
      "outputs": [
        {
          "output_type": "stream",
          "name": "stdout",
          "text": [
            "<class 'pandas.core.frame.DataFrame'>\n",
            "RangeIndex: 100004 entries, 0 to 100003\n",
            "Data columns (total 4 columns):\n",
            " #   Column     Non-Null Count   Dtype  \n",
            "---  ------     --------------   -----  \n",
            " 0   userId     100004 non-null  int64  \n",
            " 1   movieId    100004 non-null  int64  \n",
            " 2   rating     100004 non-null  float64\n",
            " 3   timestamp  100004 non-null  int64  \n",
            "dtypes: float64(1), int64(3)\n",
            "memory usage: 3.1 MB\n"
          ]
        }
      ]
    },
    {
      "cell_type": "code",
      "metadata": {
        "colab": {
          "base_uri": "https://localhost:8080/",
          "height": 300
        },
        "id": "TIX_e3eIHOEG",
        "outputId": "5cc0b0ef-8b60-428d-9066-8e20f3bdb798"
      },
      "source": [
        "ratings.describe()"
      ],
      "execution_count": 21,
      "outputs": [
        {
          "output_type": "execute_result",
          "data": {
            "text/html": [
              "<div>\n",
              "<style scoped>\n",
              "    .dataframe tbody tr th:only-of-type {\n",
              "        vertical-align: middle;\n",
              "    }\n",
              "\n",
              "    .dataframe tbody tr th {\n",
              "        vertical-align: top;\n",
              "    }\n",
              "\n",
              "    .dataframe thead th {\n",
              "        text-align: right;\n",
              "    }\n",
              "</style>\n",
              "<table border=\"1\" class=\"dataframe\">\n",
              "  <thead>\n",
              "    <tr style=\"text-align: right;\">\n",
              "      <th></th>\n",
              "      <th>userId</th>\n",
              "      <th>movieId</th>\n",
              "      <th>rating</th>\n",
              "      <th>timestamp</th>\n",
              "    </tr>\n",
              "  </thead>\n",
              "  <tbody>\n",
              "    <tr>\n",
              "      <th>count</th>\n",
              "      <td>100004.000000</td>\n",
              "      <td>100004.000000</td>\n",
              "      <td>100004.000000</td>\n",
              "      <td>1.000040e+05</td>\n",
              "    </tr>\n",
              "    <tr>\n",
              "      <th>mean</th>\n",
              "      <td>347.011310</td>\n",
              "      <td>12548.664363</td>\n",
              "      <td>3.543608</td>\n",
              "      <td>1.129639e+09</td>\n",
              "    </tr>\n",
              "    <tr>\n",
              "      <th>std</th>\n",
              "      <td>195.163838</td>\n",
              "      <td>26369.198969</td>\n",
              "      <td>1.058064</td>\n",
              "      <td>1.916858e+08</td>\n",
              "    </tr>\n",
              "    <tr>\n",
              "      <th>min</th>\n",
              "      <td>1.000000</td>\n",
              "      <td>1.000000</td>\n",
              "      <td>0.500000</td>\n",
              "      <td>7.896520e+08</td>\n",
              "    </tr>\n",
              "    <tr>\n",
              "      <th>25%</th>\n",
              "      <td>182.000000</td>\n",
              "      <td>1028.000000</td>\n",
              "      <td>3.000000</td>\n",
              "      <td>9.658478e+08</td>\n",
              "    </tr>\n",
              "    <tr>\n",
              "      <th>50%</th>\n",
              "      <td>367.000000</td>\n",
              "      <td>2406.500000</td>\n",
              "      <td>4.000000</td>\n",
              "      <td>1.110422e+09</td>\n",
              "    </tr>\n",
              "    <tr>\n",
              "      <th>75%</th>\n",
              "      <td>520.000000</td>\n",
              "      <td>5418.000000</td>\n",
              "      <td>4.000000</td>\n",
              "      <td>1.296192e+09</td>\n",
              "    </tr>\n",
              "    <tr>\n",
              "      <th>max</th>\n",
              "      <td>671.000000</td>\n",
              "      <td>163949.000000</td>\n",
              "      <td>5.000000</td>\n",
              "      <td>1.476641e+09</td>\n",
              "    </tr>\n",
              "  </tbody>\n",
              "</table>\n",
              "</div>"
            ],
            "text/plain": [
              "              userId        movieId         rating     timestamp\n",
              "count  100004.000000  100004.000000  100004.000000  1.000040e+05\n",
              "mean      347.011310   12548.664363       3.543608  1.129639e+09\n",
              "std       195.163838   26369.198969       1.058064  1.916858e+08\n",
              "min         1.000000       1.000000       0.500000  7.896520e+08\n",
              "25%       182.000000    1028.000000       3.000000  9.658478e+08\n",
              "50%       367.000000    2406.500000       4.000000  1.110422e+09\n",
              "75%       520.000000    5418.000000       4.000000  1.296192e+09\n",
              "max       671.000000  163949.000000       5.000000  1.476641e+09"
            ]
          },
          "metadata": {},
          "execution_count": 21
        }
      ]
    },
    {
      "cell_type": "code",
      "metadata": {
        "colab": {
          "base_uri": "https://localhost:8080/",
          "height": 206
        },
        "id": "gfh0Cl8wOYFP",
        "outputId": "71ffff10-f476-4076-b950-a47f94c293dd"
      },
      "source": [
        "ratings.head()"
      ],
      "execution_count": 22,
      "outputs": [
        {
          "output_type": "execute_result",
          "data": {
            "text/html": [
              "<div>\n",
              "<style scoped>\n",
              "    .dataframe tbody tr th:only-of-type {\n",
              "        vertical-align: middle;\n",
              "    }\n",
              "\n",
              "    .dataframe tbody tr th {\n",
              "        vertical-align: top;\n",
              "    }\n",
              "\n",
              "    .dataframe thead th {\n",
              "        text-align: right;\n",
              "    }\n",
              "</style>\n",
              "<table border=\"1\" class=\"dataframe\">\n",
              "  <thead>\n",
              "    <tr style=\"text-align: right;\">\n",
              "      <th></th>\n",
              "      <th>userId</th>\n",
              "      <th>movieId</th>\n",
              "      <th>rating</th>\n",
              "      <th>timestamp</th>\n",
              "    </tr>\n",
              "  </thead>\n",
              "  <tbody>\n",
              "    <tr>\n",
              "      <th>0</th>\n",
              "      <td>1</td>\n",
              "      <td>31</td>\n",
              "      <td>2.5</td>\n",
              "      <td>1260759144</td>\n",
              "    </tr>\n",
              "    <tr>\n",
              "      <th>1</th>\n",
              "      <td>1</td>\n",
              "      <td>1029</td>\n",
              "      <td>3.0</td>\n",
              "      <td>1260759179</td>\n",
              "    </tr>\n",
              "    <tr>\n",
              "      <th>2</th>\n",
              "      <td>1</td>\n",
              "      <td>1061</td>\n",
              "      <td>3.0</td>\n",
              "      <td>1260759182</td>\n",
              "    </tr>\n",
              "    <tr>\n",
              "      <th>3</th>\n",
              "      <td>1</td>\n",
              "      <td>1129</td>\n",
              "      <td>2.0</td>\n",
              "      <td>1260759185</td>\n",
              "    </tr>\n",
              "    <tr>\n",
              "      <th>4</th>\n",
              "      <td>1</td>\n",
              "      <td>1172</td>\n",
              "      <td>4.0</td>\n",
              "      <td>1260759205</td>\n",
              "    </tr>\n",
              "  </tbody>\n",
              "</table>\n",
              "</div>"
            ],
            "text/plain": [
              "   userId  movieId  rating   timestamp\n",
              "0       1       31     2.5  1260759144\n",
              "1       1     1029     3.0  1260759179\n",
              "2       1     1061     3.0  1260759182\n",
              "3       1     1129     2.0  1260759185\n",
              "4       1     1172     4.0  1260759205"
            ]
          },
          "metadata": {},
          "execution_count": 22
        }
      ]
    },
    {
      "cell_type": "code",
      "metadata": {
        "colab": {
          "base_uri": "https://localhost:8080/"
        },
        "id": "qaNPneBEP7Nm",
        "outputId": "b01266a8-7876-4dbc-be5f-ea150371701c"
      },
      "source": [
        "print('Rating Terendah:', min(ratings['rating']))\n",
        "print('Rating Tertinggi:', max(ratings['rating']))\n",
        "print('Rating Keseluruhan:', sorted(ratings.rating.unique()))"
      ],
      "execution_count": 23,
      "outputs": [
        {
          "output_type": "stream",
          "name": "stdout",
          "text": [
            "Rating Terendah: 0.5\n",
            "Rating Tertinggi: 5.0\n",
            "Rating Keseluruhan: [0.5, 1.0, 1.5, 2.0, 2.5, 3.0, 3.5, 4.0, 4.5, 5.0]\n"
          ]
        }
      ]
    },
    {
      "cell_type": "markdown",
      "metadata": {
        "id": "WUNv62jQQ6Bh"
      },
      "source": [
        "Dapat dilihat bahwa rating yang diberikan berada pada nilai 0.5 - 5.0"
      ]
    },
    {
      "cell_type": "code",
      "metadata": {
        "colab": {
          "base_uri": "https://localhost:8080/",
          "height": 487
        },
        "id": "u6Xc7_Nk_Mu6",
        "outputId": "41d53ead-68bb-4e56-8f58-986c5b7fefe0"
      },
      "source": [
        "print(ratings['rating'].value_counts())\n",
        "ratings['rating'].value_counts().plot(kind='bar', title='rating');"
      ],
      "execution_count": 24,
      "outputs": [
        {
          "output_type": "stream",
          "name": "stdout",
          "text": [
            "4.0    28750\n",
            "3.0    20064\n",
            "5.0    15095\n",
            "3.5    10538\n",
            "4.5     7723\n",
            "2.0     7271\n",
            "2.5     4449\n",
            "1.0     3326\n",
            "1.5     1687\n",
            "0.5     1101\n",
            "Name: rating, dtype: int64\n"
          ]
        },
        {
          "output_type": "display_data",
          "data": {
            "image/png": "[encoded data removed]",
            "text/plain": [
              "<Figure size 432x288 with 1 Axes>"
            ]
          },
          "metadata": {
            "needs_background": "light"
          }
        }
      ]
    },
    {
      "cell_type": "markdown",
      "metadata": {
        "id": "VhJ9Al9IHj0v"
      },
      "source": [
        "Pemberian nilai rating tertinggi pada film adalah rating dengan nilai 4. "
      ]
    },
    {
      "cell_type": "markdown",
      "metadata": {
        "id": "glO-WBi2Xd__"
      },
      "source": [
        "## **Data Preparation**"
      ]
    },
    {
      "cell_type": "markdown",
      "metadata": {
        "id": "DdCuc38WZs9i"
      },
      "source": [
        "**Ubah Tipe Data Movies**"
      ]
    },
    {
      "cell_type": "markdown",
      "metadata": {
        "id": "Z0NjfK0TgXDc"
      },
      "source": [
        "Diketahui bahwa pada dataset movie tepatnya kolom/fitur `id` tipe datanya berupa `object`. Perlu dikonversi ke bentuk `int`."
      ]
    },
    {
      "cell_type": "markdown",
      "metadata": {
        "id": "DLJvYPaegoVd"
      },
      "source": [
        "Sebelum mengubah fitur `id` ke tipe `int`, terdapat data anomali. Jika langsung mengubahnya ke tipe `int` maka akan menghasilkan error oleh sebab itu harus ditangani data anomali tersebut. Untuk itu dilakukan pengecekan data anomali."
      ]
    },
    {
      "cell_type": "code",
      "metadata": {
        "id": "PkGVpEQSHpxv",
        "colab": {
          "base_uri": "https://localhost:8080/",
          "height": 153
        },
        "outputId": "033eb382-db47-45b4-f9a5-ee598519a2d7"
      },
      "source": [
        "movies.loc[movies['id']=='1997-08-20']"
      ],
      "execution_count": 25,
      "outputs": [
        {
          "output_type": "execute_result",
          "data": {
            "text/html": [
              "<div>\n",
              "<style scoped>\n",
              "    .dataframe tbody tr th:only-of-type {\n",
              "        vertical-align: middle;\n",
              "    }\n",
              "\n",
              "    .dataframe tbody tr th {\n",
              "        vertical-align: top;\n",
              "    }\n",
              "\n",
              "    .dataframe thead th {\n",
              "        text-align: right;\n",
              "    }\n",
              "</style>\n",
              "<table border=\"1\" class=\"dataframe\">\n",
              "  <thead>\n",
              "    <tr style=\"text-align: right;\">\n",
              "      <th></th>\n",
              "      <th>adult</th>\n",
              "      <th>belongs_to_collection</th>\n",
              "      <th>budget</th>\n",
              "      <th>genres</th>\n",
              "      <th>homepage</th>\n",
              "      <th>id</th>\n",
              "      <th>imdb_id</th>\n",
              "      <th>original_language</th>\n",
              "      <th>original_title</th>\n",
              "      <th>overview</th>\n",
              "      <th>popularity</th>\n",
              "      <th>poster_path</th>\n",
              "      <th>production_companies</th>\n",
              "      <th>production_countries</th>\n",
              "      <th>release_date</th>\n",
              "      <th>revenue</th>\n",
              "      <th>runtime</th>\n",
              "      <th>spoken_languages</th>\n",
              "      <th>status</th>\n",
              "      <th>tagline</th>\n",
              "      <th>title</th>\n",
              "      <th>video</th>\n",
              "      <th>vote_average</th>\n",
              "      <th>vote_count</th>\n",
              "    </tr>\n",
              "  </thead>\n",
              "  <tbody>\n",
              "    <tr>\n",
              "      <th>19730</th>\n",
              "      <td>- Written by Ørnås</td>\n",
              "      <td>0.065736</td>\n",
              "      <td>/ff9qCepilowshEtG2GYWwzt2bs4.jpg</td>\n",
              "      <td>[{'name': 'Carousel Productions', 'id': 11176}...</td>\n",
              "      <td>[{'iso_3166_1': 'CA', 'name': 'Canada'}, {'iso...</td>\n",
              "      <td>1997-08-20</td>\n",
              "      <td>0</td>\n",
              "      <td>104.0</td>\n",
              "      <td>[{'iso_639_1': 'en', 'name': 'English'}]</td>\n",
              "      <td>Released</td>\n",
              "      <td>NaN</td>\n",
              "      <td>Midnight Man</td>\n",
              "      <td>False</td>\n",
              "      <td>6.0</td>\n",
              "      <td>1</td>\n",
              "      <td>NaN</td>\n",
              "      <td>NaN</td>\n",
              "      <td>NaN</td>\n",
              "      <td>NaN</td>\n",
              "      <td>NaN</td>\n",
              "      <td>NaN</td>\n",
              "      <td>NaN</td>\n",
              "      <td>NaN</td>\n",
              "      <td>NaN</td>\n",
              "    </tr>\n",
              "  </tbody>\n",
              "</table>\n",
              "</div>"
            ],
            "text/plain": [
              "                     adult belongs_to_collection  ... vote_average vote_count\n",
              "19730   - Written by Ørnås              0.065736  ...          NaN        NaN\n",
              "\n",
              "[1 rows x 24 columns]"
            ]
          },
          "metadata": {},
          "execution_count": 25
        }
      ]
    },
    {
      "cell_type": "code",
      "metadata": {
        "colab": {
          "base_uri": "https://localhost:8080/",
          "height": 372
        },
        "id": "K2Lv9dJodB63",
        "outputId": "343df0da-8566-4678-ca47-ce678ee5dd65"
      },
      "source": [
        "movies.loc[movies['id'].str.contains('-')]"
      ],
      "execution_count": 26,
      "outputs": [
        {
          "output_type": "execute_result",
          "data": {
            "text/html": [
              "<div>\n",
              "<style scoped>\n",
              "    .dataframe tbody tr th:only-of-type {\n",
              "        vertical-align: middle;\n",
              "    }\n",
              "\n",
              "    .dataframe tbody tr th {\n",
              "        vertical-align: top;\n",
              "    }\n",
              "\n",
              "    .dataframe thead th {\n",
              "        text-align: right;\n",
              "    }\n",
              "</style>\n",
              "<table border=\"1\" class=\"dataframe\">\n",
              "  <thead>\n",
              "    <tr style=\"text-align: right;\">\n",
              "      <th></th>\n",
              "      <th>adult</th>\n",
              "      <th>belongs_to_collection</th>\n",
              "      <th>budget</th>\n",
              "      <th>genres</th>\n",
              "      <th>homepage</th>\n",
              "      <th>id</th>\n",
              "      <th>imdb_id</th>\n",
              "      <th>original_language</th>\n",
              "      <th>original_title</th>\n",
              "      <th>overview</th>\n",
              "      <th>popularity</th>\n",
              "      <th>poster_path</th>\n",
              "      <th>production_companies</th>\n",
              "      <th>production_countries</th>\n",
              "      <th>release_date</th>\n",
              "      <th>revenue</th>\n",
              "      <th>runtime</th>\n",
              "      <th>spoken_languages</th>\n",
              "      <th>status</th>\n",
              "      <th>tagline</th>\n",
              "      <th>title</th>\n",
              "      <th>video</th>\n",
              "      <th>vote_average</th>\n",
              "      <th>vote_count</th>\n",
              "    </tr>\n",
              "  </thead>\n",
              "  <tbody>\n",
              "    <tr>\n",
              "      <th>19730</th>\n",
              "      <td>- Written by Ørnås</td>\n",
              "      <td>0.065736</td>\n",
              "      <td>/ff9qCepilowshEtG2GYWwzt2bs4.jpg</td>\n",
              "      <td>[{'name': 'Carousel Productions', 'id': 11176}...</td>\n",
              "      <td>[{'iso_3166_1': 'CA', 'name': 'Canada'}, {'iso...</td>\n",
              "      <td>1997-08-20</td>\n",
              "      <td>0</td>\n",
              "      <td>104.0</td>\n",
              "      <td>[{'iso_639_1': 'en', 'name': 'English'}]</td>\n",
              "      <td>Released</td>\n",
              "      <td>NaN</td>\n",
              "      <td>Midnight Man</td>\n",
              "      <td>False</td>\n",
              "      <td>6.0</td>\n",
              "      <td>1</td>\n",
              "      <td>NaN</td>\n",
              "      <td>NaN</td>\n",
              "      <td>NaN</td>\n",
              "      <td>NaN</td>\n",
              "      <td>NaN</td>\n",
              "      <td>NaN</td>\n",
              "      <td>NaN</td>\n",
              "      <td>NaN</td>\n",
              "      <td>NaN</td>\n",
              "    </tr>\n",
              "    <tr>\n",
              "      <th>29503</th>\n",
              "      <td>Rune Balot goes to a casino connected to the ...</td>\n",
              "      <td>1.931659</td>\n",
              "      <td>/zV8bHuSL6WXoD6FWogP9j4x80bL.jpg</td>\n",
              "      <td>[{'name': 'Aniplex', 'id': 2883}, {'name': 'Go...</td>\n",
              "      <td>[{'iso_3166_1': 'US', 'name': 'United States o...</td>\n",
              "      <td>2012-09-29</td>\n",
              "      <td>0</td>\n",
              "      <td>68.0</td>\n",
              "      <td>[{'iso_639_1': 'ja', 'name': '日本語'}]</td>\n",
              "      <td>Released</td>\n",
              "      <td>NaN</td>\n",
              "      <td>Mardock Scramble: The Third Exhaust</td>\n",
              "      <td>False</td>\n",
              "      <td>7.0</td>\n",
              "      <td>12</td>\n",
              "      <td>NaN</td>\n",
              "      <td>NaN</td>\n",
              "      <td>NaN</td>\n",
              "      <td>NaN</td>\n",
              "      <td>NaN</td>\n",
              "      <td>NaN</td>\n",
              "      <td>NaN</td>\n",
              "      <td>NaN</td>\n",
              "      <td>NaN</td>\n",
              "    </tr>\n",
              "    <tr>\n",
              "      <th>35587</th>\n",
              "      <td>Avalanche Sharks tells the story of a bikini ...</td>\n",
              "      <td>2.185485</td>\n",
              "      <td>/zaSf5OG7V8X8gqFvly88zDdRm46.jpg</td>\n",
              "      <td>[{'name': 'Odyssey Media', 'id': 17161}, {'nam...</td>\n",
              "      <td>[{'iso_3166_1': 'CA', 'name': 'Canada'}]</td>\n",
              "      <td>2014-01-01</td>\n",
              "      <td>0</td>\n",
              "      <td>82.0</td>\n",
              "      <td>[{'iso_639_1': 'en', 'name': 'English'}]</td>\n",
              "      <td>Released</td>\n",
              "      <td>Beware Of Frost Bites</td>\n",
              "      <td>Avalanche Sharks</td>\n",
              "      <td>False</td>\n",
              "      <td>4.3</td>\n",
              "      <td>22</td>\n",
              "      <td>NaN</td>\n",
              "      <td>NaN</td>\n",
              "      <td>NaN</td>\n",
              "      <td>NaN</td>\n",
              "      <td>NaN</td>\n",
              "      <td>NaN</td>\n",
              "      <td>NaN</td>\n",
              "      <td>NaN</td>\n",
              "      <td>NaN</td>\n",
              "    </tr>\n",
              "  </tbody>\n",
              "</table>\n",
              "</div>"
            ],
            "text/plain": [
              "                                                   adult  ... vote_count\n",
              "19730                                 - Written by Ørnås  ...        NaN\n",
              "29503   Rune Balot goes to a casino connected to the ...  ...        NaN\n",
              "35587   Avalanche Sharks tells the story of a bikini ...  ...        NaN\n",
              "\n",
              "[3 rows x 24 columns]"
            ]
          },
          "metadata": {},
          "execution_count": 26
        }
      ]
    },
    {
      "cell_type": "code",
      "metadata": {
        "id": "FLZ6_YIqcVa_"
      },
      "source": [
        "movies = movies.drop([19730, 29503, 35587])"
      ],
      "execution_count": 27,
      "outputs": []
    },
    {
      "cell_type": "code",
      "metadata": {
        "colab": {
          "base_uri": "https://localhost:8080/"
        },
        "id": "RhXd5BNKctzv",
        "outputId": "221e9074-bed4-4213-c376-c6450d11541e"
      },
      "source": [
        "import numpy as np\n",
        "\n",
        "print(movies['id'].dtype)\n",
        "movies['id'] = movies['id'].astype(int)\n",
        "print(movies['id'].dtype)"
      ],
      "execution_count": 28,
      "outputs": [
        {
          "output_type": "stream",
          "name": "stdout",
          "text": [
            "object\n",
            "int64\n"
          ]
        }
      ]
    },
    {
      "cell_type": "markdown",
      "metadata": {
        "id": "mbT03coppXxu"
      },
      "source": [
        "**Ubah Tipe Data Links Small**"
      ]
    },
    {
      "cell_type": "markdown",
      "metadata": {
        "id": "TV6i76fGrIkT"
      },
      "source": [
        "Seperti yang diketahui terdapat 13 data yang null dan jika diperhatikan pada analisis deskriptif, kolom/fitur pada `tmdbId` nilainya bukan desimal namun tipe datanya float. Maka bisa diubah ke tipe data `int`."
      ]
    },
    {
      "cell_type": "code",
      "metadata": {
        "id": "24SSN2UrpHT_"
      },
      "source": [
        "links = links[links['tmdbId'].notnull()]['tmdbId'].astype('int')"
      ],
      "execution_count": 29,
      "outputs": []
    },
    {
      "cell_type": "code",
      "metadata": {
        "colab": {
          "base_uri": "https://localhost:8080/"
        },
        "id": "cACo-u1Hr34u",
        "outputId": "b6ddec13-d8e3-417e-88d1-a6540cf410f3"
      },
      "source": [
        "links.head()"
      ],
      "execution_count": 30,
      "outputs": [
        {
          "output_type": "execute_result",
          "data": {
            "text/plain": [
              "0      862\n",
              "1     8844\n",
              "2    15602\n",
              "3    31357\n",
              "4    11862\n",
              "Name: tmdbId, dtype: int64"
            ]
          },
          "metadata": {},
          "execution_count": 30
        }
      ]
    },
    {
      "cell_type": "markdown",
      "metadata": {
        "id": "1HETam_oI8LQ"
      },
      "source": [
        "**Menyamakan Dataframe dengan Values**"
      ]
    },
    {
      "cell_type": "code",
      "metadata": {
        "colab": {
          "base_uri": "https://localhost:8080/"
        },
        "id": "38C2MUMdJewN",
        "outputId": "f3a56fb1-f00e-4dba-acd0-84b4961f8c0b"
      },
      "source": [
        "smd = movies[movies['id'].isin(links)]\n",
        "smd.shape"
      ],
      "execution_count": 31,
      "outputs": [
        {
          "output_type": "execute_result",
          "data": {
            "text/plain": [
              "(9099, 24)"
            ]
          },
          "metadata": {},
          "execution_count": 31
        }
      ]
    },
    {
      "cell_type": "markdown",
      "metadata": {
        "id": "uLTKPaGuJxHN"
      },
      "source": [
        "Terdapat 9099 film yang tersedia dalam dataset metadata movies yang 5 kali lebih kecil dari dataset asli yang terdiri dari 45000 film. Hanya mengambil sebagian data dari kesamaan dataset Metadata dengan Links Small."
      ]
    },
    {
      "cell_type": "markdown",
      "metadata": {
        "id": "lI2P11-dKkzA"
      },
      "source": [
        "**Mengisi Nilai Null/Nan**"
      ]
    },
    {
      "cell_type": "code",
      "metadata": {
        "colab": {
          "base_uri": "https://localhost:8080/"
        },
        "id": "9vOCkH2_Kv6T",
        "outputId": "f3ec8709-e5e8-4f00-8909-6401d2ea58d8"
      },
      "source": [
        "smd['tagline'].unique()"
      ],
      "execution_count": 32,
      "outputs": [
        {
          "output_type": "execute_result",
          "data": {
            "text/plain": [
              "array([nan, 'Roll the dice and unleash the excitement!',\n",
              "       'Still Yelling. Still Fighting. Still Ready for Love.', ...,\n",
              "       'Decorated Officer. Devoted Family Man. Defending His Honor. His Name Is RUSTOM.',\n",
              "       'A god incarnate. A city doomed.',\n",
              "       \"The band you know. The story you don't.\"], dtype=object)"
            ]
          },
          "metadata": {},
          "execution_count": 32
        }
      ]
    },
    {
      "cell_type": "markdown",
      "metadata": {
        "id": "9L3R4z2GKyIy"
      },
      "source": [
        "Terdapat data nan pada kolom/fitur tagline. Untuk mengatasi hal tersebut maka data nan tersebut diisi dengan `''`."
      ]
    },
    {
      "cell_type": "markdown",
      "metadata": {
        "id": "XqM5pj_KLmSC"
      },
      "source": [
        "**Menggabungkan Kolom/Fitur**"
      ]
    },
    {
      "cell_type": "markdown",
      "metadata": {
        "id": "wwH0yj7pLxfz"
      },
      "source": [
        "Tagline film adalah slogan atau catchphrases untuk film. Biasanya menyertakan permainan kata-kata yang cerdas, frasa pendek, satu atau dua kalimat. Tagline dapat merujuk pada plot film atau menyarankan pengalaman yang akan dialami sebagai penonton. Jadi, akan menggabungkan kolom/fitur `tagline` dengan kolom/fitur `overview` untuk memperoleh kolom/fitur `description`."
      ]
    },
    {
      "cell_type": "code",
      "metadata": {
        "colab": {
          "base_uri": "https://localhost:8080/"
        },
        "id": "XZT5DYNwKpre",
        "outputId": "7443b709-37cb-4d08-94d9-a484eacea441"
      },
      "source": [
        "smd['tagline'] = smd['tagline'].fillna('')\n",
        "smd['description'] = smd['overview'] + smd['tagline']\n",
        "smd['description'] = smd['description'].fillna('')"
      ],
      "execution_count": 33,
      "outputs": [
        {
          "output_type": "stream",
          "name": "stderr",
          "text": [
            "/usr/local/lib/python3.7/dist-packages/ipykernel_launcher.py:1: SettingWithCopyWarning: \n",
            "A value is trying to be set on a copy of a slice from a DataFrame.\n",
            "Try using .loc[row_indexer,col_indexer] = value instead\n",
            "\n",
            "See the caveats in the documentation: https://pandas.pydata.org/pandas-docs/stable/user_guide/indexing.html#returning-a-view-versus-a-copy\n",
            "  \"\"\"Entry point for launching an IPython kernel.\n",
            "/usr/local/lib/python3.7/dist-packages/ipykernel_launcher.py:2: SettingWithCopyWarning: \n",
            "A value is trying to be set on a copy of a slice from a DataFrame.\n",
            "Try using .loc[row_indexer,col_indexer] = value instead\n",
            "\n",
            "See the caveats in the documentation: https://pandas.pydata.org/pandas-docs/stable/user_guide/indexing.html#returning-a-view-versus-a-copy\n",
            "  \n",
            "/usr/local/lib/python3.7/dist-packages/ipykernel_launcher.py:3: SettingWithCopyWarning: \n",
            "A value is trying to be set on a copy of a slice from a DataFrame.\n",
            "Try using .loc[row_indexer,col_indexer] = value instead\n",
            "\n",
            "See the caveats in the documentation: https://pandas.pydata.org/pandas-docs/stable/user_guide/indexing.html#returning-a-view-versus-a-copy\n",
            "  This is separate from the ipykernel package so we can avoid doing imports until\n"
          ]
        }
      ]
    },
    {
      "cell_type": "markdown",
      "metadata": {
        "id": "hNrYMZhSNAzj"
      },
      "source": [
        "**Dataset Credits & Keywords**"
      ]
    },
    {
      "cell_type": "markdown",
      "metadata": {
        "id": "FGg2DABENfcH"
      },
      "source": [
        "**Menggabungkan Dataset**"
      ]
    },
    {
      "cell_type": "code",
      "metadata": {
        "id": "uHvuCZNcNGls"
      },
      "source": [
        "keywords['id'] = keywords['id'].astype('int')\n",
        "credits['id'] = credits['id'].astype('int')\n",
        "movies['id'] = movies['id'].astype('int')"
      ],
      "execution_count": 34,
      "outputs": []
    },
    {
      "cell_type": "markdown",
      "metadata": {
        "id": "jR3XMkXTd5eK"
      },
      "source": [
        "Akan menggunakan crew, cast dan keywords, jadi mari kita gabungkan dataframe ini dengan dataframe metadata movies."
      ]
    },
    {
      "cell_type": "code",
      "metadata": {
        "id": "1X5yTm5cNWVa"
      },
      "source": [
        "movies2 = movies.merge(credits, on='id',how='left')"
      ],
      "execution_count": 35,
      "outputs": []
    },
    {
      "cell_type": "code",
      "metadata": {
        "id": "T1_K2h5WW39w"
      },
      "source": [
        "movies2 = movies2.merge(keywords, on='id',how='left')"
      ],
      "execution_count": 36,
      "outputs": []
    },
    {
      "cell_type": "markdown",
      "metadata": {
        "id": "Qi7aHLzGfDpY"
      },
      "source": [
        "Hanya akan menyimpan film yang ada di tmdb `id` dan akan membuat dataframe baru sehingga akan membiarkan dataframe asli tanpa perubahan (dataset metadata movies).\n"
      ]
    },
    {
      "cell_type": "code",
      "metadata": {
        "colab": {
          "base_uri": "https://localhost:8080/"
        },
        "id": "5klIVKqfN20o",
        "outputId": "554ed518-62b1-4556-cfa0-8f3d4e1c1a60"
      },
      "source": [
        "smd2 = movies2[movies2['id'].isin(links)]\n",
        "smd2.shape"
      ],
      "execution_count": 37,
      "outputs": [
        {
          "output_type": "execute_result",
          "data": {
            "text/plain": [
              "(9219, 27)"
            ]
          },
          "metadata": {},
          "execution_count": 37
        }
      ]
    },
    {
      "cell_type": "markdown",
      "metadata": {
        "id": "wPH3b1n6OheN"
      },
      "source": [
        "Sekarang memiliki kolom/fitur cast, crew, genres and credits, semuanya dalam satu dataframe (Dataset Metadata Movie). Sehingga dapat menarik sebuah intuisi:\n",
        "\n",
        "* **Crew**: Dari kru, hanya akan memilih/mengambil sutradara (director) sebagai fitur karena yang lain tidak banyak berkontribusi pada nuansa film.\n",
        "* **Cast**: Memilih pemeran sedikit lebih rumit. Aktor yang kurang dikenal dan peran kecil tidak terlalu memengaruhi opini orang tentang sebuah film. Oleh karena itu hanya memilih karakter utama dan aktornya masing-masing. Sewenang-wenang akan memilih 3 aktor teratas yang muncul dalam daftar credits.\n"
      ]
    },
    {
      "cell_type": "code",
      "metadata": {
        "id": "JLXs9pRZXyFp",
        "colab": {
          "base_uri": "https://localhost:8080/"
        },
        "outputId": "84d16def-682a-4315-a9aa-f898e97e0430"
      },
      "source": [
        "smd2.info()"
      ],
      "execution_count": 38,
      "outputs": [
        {
          "output_type": "stream",
          "name": "stdout",
          "text": [
            "<class 'pandas.core.frame.DataFrame'>\n",
            "Int64Index: 9219 entries, 0 to 46428\n",
            "Data columns (total 27 columns):\n",
            " #   Column                 Non-Null Count  Dtype  \n",
            "---  ------                 --------------  -----  \n",
            " 0   adult                  9219 non-null   object \n",
            " 1   belongs_to_collection  1688 non-null   object \n",
            " 2   budget                 9219 non-null   object \n",
            " 3   genres                 9219 non-null   object \n",
            " 4   homepage               2001 non-null   object \n",
            " 5   id                     9219 non-null   int64  \n",
            " 6   imdb_id                9219 non-null   object \n",
            " 7   original_language      9219 non-null   object \n",
            " 8   original_title         9219 non-null   object \n",
            " 9   overview               9207 non-null   object \n",
            " 10  popularity             9219 non-null   object \n",
            " 11  poster_path            9216 non-null   object \n",
            " 12  production_companies   9219 non-null   object \n",
            " 13  production_countries   9219 non-null   object \n",
            " 14  release_date           9219 non-null   object \n",
            " 15  revenue                9219 non-null   float64\n",
            " 16  runtime                9219 non-null   float64\n",
            " 17  spoken_languages       9219 non-null   object \n",
            " 18  status                 9217 non-null   object \n",
            " 19  tagline                7082 non-null   object \n",
            " 20  title                  9219 non-null   object \n",
            " 21  video                  9219 non-null   object \n",
            " 22  vote_average           9219 non-null   float64\n",
            " 23  vote_count             9219 non-null   float64\n",
            " 24  cast                   9219 non-null   object \n",
            " 25  crew                   9219 non-null   object \n",
            " 26  keywords               9219 non-null   object \n",
            "dtypes: float64(4), int64(1), object(22)\n",
            "memory usage: 2.0+ MB\n"
          ]
        }
      ]
    },
    {
      "cell_type": "markdown",
      "metadata": {
        "id": "aBWbjJO3flWT"
      },
      "source": [
        "Akan mengubah kolom/fitur `cast, crew, keywords` menjadi hanya berisi satu list dengan `cast, crew, keywords` bukan dictionary.\n"
      ]
    },
    {
      "cell_type": "code",
      "metadata": {
        "id": "oL0hfyORVuRJ",
        "colab": {
          "base_uri": "https://localhost:8080/"
        },
        "outputId": "e8db8a64-d60f-41b1-ff91-5c4b486933e2"
      },
      "source": [
        "from ast import literal_eval\n",
        "smd2['cast'] = smd2['cast'].apply(literal_eval)\n",
        "smd2['crew'] = smd2['crew'].apply(literal_eval)\n",
        "smd2['keywords'] = smd2['keywords'].apply(literal_eval)\n",
        "smd2['cast_size'] = smd2['cast'].apply(lambda x: len(x))\n",
        "smd2['crew_size'] = smd2['crew'].apply(lambda x: len(x))"
      ],
      "execution_count": 39,
      "outputs": [
        {
          "output_type": "stream",
          "name": "stderr",
          "text": [
            "/usr/local/lib/python3.7/dist-packages/ipykernel_launcher.py:2: SettingWithCopyWarning: \n",
            "A value is trying to be set on a copy of a slice from a DataFrame.\n",
            "Try using .loc[row_indexer,col_indexer] = value instead\n",
            "\n",
            "See the caveats in the documentation: https://pandas.pydata.org/pandas-docs/stable/user_guide/indexing.html#returning-a-view-versus-a-copy\n",
            "  \n",
            "/usr/local/lib/python3.7/dist-packages/ipykernel_launcher.py:3: SettingWithCopyWarning: \n",
            "A value is trying to be set on a copy of a slice from a DataFrame.\n",
            "Try using .loc[row_indexer,col_indexer] = value instead\n",
            "\n",
            "See the caveats in the documentation: https://pandas.pydata.org/pandas-docs/stable/user_guide/indexing.html#returning-a-view-versus-a-copy\n",
            "  This is separate from the ipykernel package so we can avoid doing imports until\n",
            "/usr/local/lib/python3.7/dist-packages/ipykernel_launcher.py:4: SettingWithCopyWarning: \n",
            "A value is trying to be set on a copy of a slice from a DataFrame.\n",
            "Try using .loc[row_indexer,col_indexer] = value instead\n",
            "\n",
            "See the caveats in the documentation: https://pandas.pydata.org/pandas-docs/stable/user_guide/indexing.html#returning-a-view-versus-a-copy\n",
            "  after removing the cwd from sys.path.\n",
            "/usr/local/lib/python3.7/dist-packages/ipykernel_launcher.py:5: SettingWithCopyWarning: \n",
            "A value is trying to be set on a copy of a slice from a DataFrame.\n",
            "Try using .loc[row_indexer,col_indexer] = value instead\n",
            "\n",
            "See the caveats in the documentation: https://pandas.pydata.org/pandas-docs/stable/user_guide/indexing.html#returning-a-view-versus-a-copy\n",
            "  \"\"\"\n",
            "/usr/local/lib/python3.7/dist-packages/ipykernel_launcher.py:6: SettingWithCopyWarning: \n",
            "A value is trying to be set on a copy of a slice from a DataFrame.\n",
            "Try using .loc[row_indexer,col_indexer] = value instead\n",
            "\n",
            "See the caveats in the documentation: https://pandas.pydata.org/pandas-docs/stable/user_guide/indexing.html#returning-a-view-versus-a-copy\n",
            "  \n"
          ]
        }
      ]
    },
    {
      "cell_type": "markdown",
      "metadata": {
        "id": "NRo6kIgEi949"
      },
      "source": [
        "**Get Director**"
      ]
    },
    {
      "cell_type": "markdown",
      "metadata": {
        "id": "SrKvXpNtgxvN"
      },
      "source": [
        "Kru film terdiri dari puluhan orang dan peran, mulai dari tugas yang sederhana hingga yang paling rumit. Janya akan memilih sutradara karena peran lain tidak banyak berkontribusi pada nuansa film."
      ]
    },
    {
      "cell_type": "code",
      "metadata": {
        "id": "Q4Zb8Inrae26"
      },
      "source": [
        "#membuat fungsi mendapatkan data sutradara\n",
        "def get_director(x):\n",
        "    for i in x:\n",
        "        if i['job'] == 'Director':\n",
        "            return i['name']\n",
        "    return np.nan"
      ],
      "execution_count": 40,
      "outputs": []
    },
    {
      "cell_type": "code",
      "metadata": {
        "colab": {
          "base_uri": "https://localhost:8080/"
        },
        "id": "LmF-ZSiYakYf",
        "outputId": "a3a7022b-a90c-4559-892a-ab18c7a59d10"
      },
      "source": [
        "smd2['director'] = smd2['crew'].apply(get_director)"
      ],
      "execution_count": 41,
      "outputs": [
        {
          "output_type": "stream",
          "name": "stderr",
          "text": [
            "/usr/local/lib/python3.7/dist-packages/ipykernel_launcher.py:1: SettingWithCopyWarning: \n",
            "A value is trying to be set on a copy of a slice from a DataFrame.\n",
            "Try using .loc[row_indexer,col_indexer] = value instead\n",
            "\n",
            "See the caveats in the documentation: https://pandas.pydata.org/pandas-docs/stable/user_guide/indexing.html#returning-a-view-versus-a-copy\n",
            "  \"\"\"Entry point for launching an IPython kernel.\n"
          ]
        }
      ]
    },
    {
      "cell_type": "code",
      "metadata": {
        "colab": {
          "base_uri": "https://localhost:8080/"
        },
        "id": "uz0walzNbnkA",
        "outputId": "1c01f630-ae71-46ee-d393-cff810575a3c"
      },
      "source": [
        "smd2.director.head()"
      ],
      "execution_count": 42,
      "outputs": [
        {
          "output_type": "execute_result",
          "data": {
            "text/plain": [
              "0      John Lasseter\n",
              "1       Joe Johnston\n",
              "2      Howard Deutch\n",
              "3    Forest Whitaker\n",
              "4      Charles Shyer\n",
              "Name: director, dtype: object"
            ]
          },
          "metadata": {},
          "execution_count": 42
        }
      ]
    },
    {
      "cell_type": "markdown",
      "metadata": {
        "id": "tFkQzO6ahQqF"
      },
      "source": [
        "Setiap film memiliki banyak aktor, tidak semuanya begitu penting, jadi hanya akan memilih tiga aktor teratas dalam daftar pemeran.\n"
      ]
    },
    {
      "cell_type": "code",
      "metadata": {
        "id": "sZATeaoibwCD",
        "colab": {
          "base_uri": "https://localhost:8080/"
        },
        "outputId": "acec74f9-466a-4aed-e6f8-9c093ec225e1"
      },
      "source": [
        "smd2['cast'] = smd2['cast'].apply(lambda x: [i['name'] for i in x] if isinstance(x, list) else [])\n",
        "smd2['cast'] = smd2['cast'].apply(lambda x: x[:3] if len(x) >=3 else x)"
      ],
      "execution_count": 43,
      "outputs": [
        {
          "output_type": "stream",
          "name": "stderr",
          "text": [
            "/usr/local/lib/python3.7/dist-packages/ipykernel_launcher.py:1: SettingWithCopyWarning: \n",
            "A value is trying to be set on a copy of a slice from a DataFrame.\n",
            "Try using .loc[row_indexer,col_indexer] = value instead\n",
            "\n",
            "See the caveats in the documentation: https://pandas.pydata.org/pandas-docs/stable/user_guide/indexing.html#returning-a-view-versus-a-copy\n",
            "  \"\"\"Entry point for launching an IPython kernel.\n",
            "/usr/local/lib/python3.7/dist-packages/ipykernel_launcher.py:2: SettingWithCopyWarning: \n",
            "A value is trying to be set on a copy of a slice from a DataFrame.\n",
            "Try using .loc[row_indexer,col_indexer] = value instead\n",
            "\n",
            "See the caveats in the documentation: https://pandas.pydata.org/pandas-docs/stable/user_guide/indexing.html#returning-a-view-versus-a-copy\n",
            "  \n"
          ]
        }
      ]
    },
    {
      "cell_type": "code",
      "metadata": {
        "id": "mXSGQzSgb98v",
        "colab": {
          "base_uri": "https://localhost:8080/"
        },
        "outputId": "6434a4f1-04df-4acf-e4b5-820897891633"
      },
      "source": [
        "smd2['keywords'] = smd2['keywords'].apply(lambda x: [i['name'] for i in x] if isinstance(x, list) else [])"
      ],
      "execution_count": 44,
      "outputs": [
        {
          "output_type": "stream",
          "name": "stderr",
          "text": [
            "/usr/local/lib/python3.7/dist-packages/ipykernel_launcher.py:1: SettingWithCopyWarning: \n",
            "A value is trying to be set on a copy of a slice from a DataFrame.\n",
            "Try using .loc[row_indexer,col_indexer] = value instead\n",
            "\n",
            "See the caveats in the documentation: https://pandas.pydata.org/pandas-docs/stable/user_guide/indexing.html#returning-a-view-versus-a-copy\n",
            "  \"\"\"Entry point for launching an IPython kernel.\n"
          ]
        }
      ]
    },
    {
      "cell_type": "code",
      "metadata": {
        "colab": {
          "base_uri": "https://localhost:8080/",
          "height": 206
        },
        "id": "o51GSb_UcEE1",
        "outputId": "2aa40987-7d60-4558-be19-f666268983ca"
      },
      "source": [
        "smd2[['director','cast','keywords']].head()"
      ],
      "execution_count": 45,
      "outputs": [
        {
          "output_type": "execute_result",
          "data": {
            "text/html": [
              "<div>\n",
              "<style scoped>\n",
              "    .dataframe tbody tr th:only-of-type {\n",
              "        vertical-align: middle;\n",
              "    }\n",
              "\n",
              "    .dataframe tbody tr th {\n",
              "        vertical-align: top;\n",
              "    }\n",
              "\n",
              "    .dataframe thead th {\n",
              "        text-align: right;\n",
              "    }\n",
              "</style>\n",
              "<table border=\"1\" class=\"dataframe\">\n",
              "  <thead>\n",
              "    <tr style=\"text-align: right;\">\n",
              "      <th></th>\n",
              "      <th>director</th>\n",
              "      <th>cast</th>\n",
              "      <th>keywords</th>\n",
              "    </tr>\n",
              "  </thead>\n",
              "  <tbody>\n",
              "    <tr>\n",
              "      <th>0</th>\n",
              "      <td>John Lasseter</td>\n",
              "      <td>[Tom Hanks, Tim Allen, Don Rickles]</td>\n",
              "      <td>[jealousy, toy, boy, friendship, friends, riva...</td>\n",
              "    </tr>\n",
              "    <tr>\n",
              "      <th>1</th>\n",
              "      <td>Joe Johnston</td>\n",
              "      <td>[Robin Williams, Jonathan Hyde, Kirsten Dunst]</td>\n",
              "      <td>[board game, disappearance, based on children'...</td>\n",
              "    </tr>\n",
              "    <tr>\n",
              "      <th>2</th>\n",
              "      <td>Howard Deutch</td>\n",
              "      <td>[Walter Matthau, Jack Lemmon, Ann-Margret]</td>\n",
              "      <td>[fishing, best friend, duringcreditsstinger, o...</td>\n",
              "    </tr>\n",
              "    <tr>\n",
              "      <th>3</th>\n",
              "      <td>Forest Whitaker</td>\n",
              "      <td>[Whitney Houston, Angela Bassett, Loretta Devine]</td>\n",
              "      <td>[based on novel, interracial relationship, sin...</td>\n",
              "    </tr>\n",
              "    <tr>\n",
              "      <th>4</th>\n",
              "      <td>Charles Shyer</td>\n",
              "      <td>[Steve Martin, Diane Keaton, Martin Short]</td>\n",
              "      <td>[baby, midlife crisis, confidence, aging, daug...</td>\n",
              "    </tr>\n",
              "  </tbody>\n",
              "</table>\n",
              "</div>"
            ],
            "text/plain": [
              "          director  ...                                           keywords\n",
              "0    John Lasseter  ...  [jealousy, toy, boy, friendship, friends, riva...\n",
              "1     Joe Johnston  ...  [board game, disappearance, based on children'...\n",
              "2    Howard Deutch  ...  [fishing, best friend, duringcreditsstinger, o...\n",
              "3  Forest Whitaker  ...  [based on novel, interracial relationship, sin...\n",
              "4    Charles Shyer  ...  [baby, midlife crisis, confidence, aging, daug...\n",
              "\n",
              "[5 rows x 3 columns]"
            ]
          },
          "metadata": {},
          "execution_count": 45
        }
      ]
    },
    {
      "cell_type": "markdown",
      "metadata": {
        "id": "rJ_S5tBjiXes"
      },
      "source": [
        "**Hapus Spasi dan Ubah ke Lowercase**"
      ]
    },
    {
      "cell_type": "markdown",
      "metadata": {
        "id": "mS-l4XNQjlh4"
      },
      "source": [
        "Dengan cara ini, mesin tidak akan bingung misalnya membedakan Johnny Depp dan Johnny Galecki."
      ]
    },
    {
      "cell_type": "code",
      "metadata": {
        "colab": {
          "base_uri": "https://localhost:8080/"
        },
        "id": "au0BFLqOjXBy",
        "outputId": "411981fd-b3ed-4f94-ce9b-5574bab7bcba"
      },
      "source": [
        "smd2['cast'] = smd2['cast'].apply(lambda x: [str.lower(i.replace(\" \", \"\")) for i in x])"
      ],
      "execution_count": 46,
      "outputs": [
        {
          "output_type": "stream",
          "name": "stderr",
          "text": [
            "/usr/local/lib/python3.7/dist-packages/ipykernel_launcher.py:1: SettingWithCopyWarning: \n",
            "A value is trying to be set on a copy of a slice from a DataFrame.\n",
            "Try using .loc[row_indexer,col_indexer] = value instead\n",
            "\n",
            "See the caveats in the documentation: https://pandas.pydata.org/pandas-docs/stable/user_guide/indexing.html#returning-a-view-versus-a-copy\n",
            "  \"\"\"Entry point for launching an IPython kernel.\n"
          ]
        }
      ]
    },
    {
      "cell_type": "markdown",
      "metadata": {
        "id": "M7tXAWZCj8KP"
      },
      "source": [
        "**Mention Director 3x**"
      ]
    },
    {
      "cell_type": "markdown",
      "metadata": {
        "id": "wVJjvGISj2eu"
      },
      "source": [
        "Mention Sutradara 3 kali untuk memberikan bobot yang lebih besar dibandingkan dengan seluruh pemeran karena sutradara mempengaruhi kualitas film lebih dari peran lainnya."
      ]
    },
    {
      "cell_type": "code",
      "metadata": {
        "colab": {
          "base_uri": "https://localhost:8080/"
        },
        "id": "IQO4-l0vjzEn",
        "outputId": "a5cffb41-3823-43dc-d4d2-75e1d9e1fd02"
      },
      "source": [
        "smd2['director'] = smd2['director'].astype('str').apply(lambda x: str.lower(x.replace(\" \", \"\")))\n",
        "smd2['director'] = smd2['director'].apply(lambda x: [x,x, x])"
      ],
      "execution_count": 47,
      "outputs": [
        {
          "output_type": "stream",
          "name": "stderr",
          "text": [
            "/usr/local/lib/python3.7/dist-packages/ipykernel_launcher.py:1: SettingWithCopyWarning: \n",
            "A value is trying to be set on a copy of a slice from a DataFrame.\n",
            "Try using .loc[row_indexer,col_indexer] = value instead\n",
            "\n",
            "See the caveats in the documentation: https://pandas.pydata.org/pandas-docs/stable/user_guide/indexing.html#returning-a-view-versus-a-copy\n",
            "  \"\"\"Entry point for launching an IPython kernel.\n",
            "/usr/local/lib/python3.7/dist-packages/ipykernel_launcher.py:2: SettingWithCopyWarning: \n",
            "A value is trying to be set on a copy of a slice from a DataFrame.\n",
            "Try using .loc[row_indexer,col_indexer] = value instead\n",
            "\n",
            "See the caveats in the documentation: https://pandas.pydata.org/pandas-docs/stable/user_guide/indexing.html#returning-a-view-versus-a-copy\n",
            "  \n"
          ]
        }
      ]
    },
    {
      "cell_type": "code",
      "metadata": {
        "colab": {
          "base_uri": "https://localhost:8080/",
          "height": 206
        },
        "id": "JeTLj9-RkKno",
        "outputId": "e2d921f5-80a5-49b6-b9e4-92ed7cd3713a"
      },
      "source": [
        "smd2[['cast','director']].head()"
      ],
      "execution_count": 48,
      "outputs": [
        {
          "output_type": "execute_result",
          "data": {
            "text/html": [
              "<div>\n",
              "<style scoped>\n",
              "    .dataframe tbody tr th:only-of-type {\n",
              "        vertical-align: middle;\n",
              "    }\n",
              "\n",
              "    .dataframe tbody tr th {\n",
              "        vertical-align: top;\n",
              "    }\n",
              "\n",
              "    .dataframe thead th {\n",
              "        text-align: right;\n",
              "    }\n",
              "</style>\n",
              "<table border=\"1\" class=\"dataframe\">\n",
              "  <thead>\n",
              "    <tr style=\"text-align: right;\">\n",
              "      <th></th>\n",
              "      <th>cast</th>\n",
              "      <th>director</th>\n",
              "    </tr>\n",
              "  </thead>\n",
              "  <tbody>\n",
              "    <tr>\n",
              "      <th>0</th>\n",
              "      <td>[tomhanks, timallen, donrickles]</td>\n",
              "      <td>[johnlasseter, johnlasseter, johnlasseter]</td>\n",
              "    </tr>\n",
              "    <tr>\n",
              "      <th>1</th>\n",
              "      <td>[robinwilliams, jonathanhyde, kirstendunst]</td>\n",
              "      <td>[joejohnston, joejohnston, joejohnston]</td>\n",
              "    </tr>\n",
              "    <tr>\n",
              "      <th>2</th>\n",
              "      <td>[waltermatthau, jacklemmon, ann-margret]</td>\n",
              "      <td>[howarddeutch, howarddeutch, howarddeutch]</td>\n",
              "    </tr>\n",
              "    <tr>\n",
              "      <th>3</th>\n",
              "      <td>[whitneyhouston, angelabassett, lorettadevine]</td>\n",
              "      <td>[forestwhitaker, forestwhitaker, forestwhitaker]</td>\n",
              "    </tr>\n",
              "    <tr>\n",
              "      <th>4</th>\n",
              "      <td>[stevemartin, dianekeaton, martinshort]</td>\n",
              "      <td>[charlesshyer, charlesshyer, charlesshyer]</td>\n",
              "    </tr>\n",
              "  </tbody>\n",
              "</table>\n",
              "</div>"
            ],
            "text/plain": [
              "                                             cast                                          director\n",
              "0                [tomhanks, timallen, donrickles]        [johnlasseter, johnlasseter, johnlasseter]\n",
              "1     [robinwilliams, jonathanhyde, kirstendunst]           [joejohnston, joejohnston, joejohnston]\n",
              "2        [waltermatthau, jacklemmon, ann-margret]        [howarddeutch, howarddeutch, howarddeutch]\n",
              "3  [whitneyhouston, angelabassett, lorettadevine]  [forestwhitaker, forestwhitaker, forestwhitaker]\n",
              "4         [stevemartin, dianekeaton, martinshort]        [charlesshyer, charlesshyer, charlesshyer]"
            ]
          },
          "metadata": {},
          "execution_count": 48
        }
      ]
    },
    {
      "cell_type": "markdown",
      "metadata": {
        "id": "vL4uDh5Yk3ma"
      },
      "source": [
        "**Keywords**"
      ]
    },
    {
      "cell_type": "markdown",
      "metadata": {
        "id": "rwuOPJKVk5_1"
      },
      "source": [
        "Menghitung jumlah frekuensi dari setiap kata kunci yang muncul di dataset."
      ]
    },
    {
      "cell_type": "code",
      "metadata": {
        "colab": {
          "base_uri": "https://localhost:8080/"
        },
        "id": "wa3LRxU9lFWG",
        "outputId": "9f8a9c4e-5b42-435e-e461-bcfc719ce620"
      },
      "source": [
        "s = smd2.apply(lambda x: pd.Series(x['keywords']),axis=1).stack().reset_index(level=1, drop=True)\n",
        "s.name = 'keyword'"
      ],
      "execution_count": 49,
      "outputs": [
        {
          "output_type": "stream",
          "name": "stderr",
          "text": [
            "/usr/local/lib/python3.7/dist-packages/ipykernel_launcher.py:1: DeprecationWarning: The default dtype for empty Series will be 'object' instead of 'float64' in a future version. Specify a dtype explicitly to silence this warning.\n",
            "  \"\"\"Entry point for launching an IPython kernel.\n"
          ]
        }
      ]
    },
    {
      "cell_type": "code",
      "metadata": {
        "colab": {
          "base_uri": "https://localhost:8080/"
        },
        "id": "7XhnDkC5lOi7",
        "outputId": "9d5f0315-78eb-49ec-b3d7-a404562b0c41"
      },
      "source": [
        "s = s.value_counts()\n",
        "s[:5]"
      ],
      "execution_count": 50,
      "outputs": [
        {
          "output_type": "execute_result",
          "data": {
            "text/plain": [
              "independent film        610\n",
              "woman director          550\n",
              "murder                  399\n",
              "duringcreditsstinger    327\n",
              "based on novel          318\n",
              "Name: keyword, dtype: int64"
            ]
          },
          "metadata": {},
          "execution_count": 50
        }
      ]
    },
    {
      "cell_type": "markdown",
      "metadata": {
        "id": "ExNHfHS_lVjy"
      },
      "source": [
        "Keywords muncul dalam frekuensi mulai dari 1 hingga 610. Jadi tidak akan menggunakan keywords yang hanya muncul sekali. Oleh karena itu, ini dapat dihapus dengan aman. Terakhir, akan mengonversi setiap kata dengan teknik `stemming` sehingga kata-kata seperti Dog dan Dogs dianggap sama."
      ]
    },
    {
      "cell_type": "markdown",
      "metadata": {
        "id": "F5q4xuUsnH2v"
      },
      "source": [
        "Hanya akan mengambil film dengan lebih dari satu keywords."
      ]
    },
    {
      "cell_type": "code",
      "metadata": {
        "id": "haxhRlctmPXI"
      },
      "source": [
        "s = s[s > 1]"
      ],
      "execution_count": 51,
      "outputs": []
    },
    {
      "cell_type": "code",
      "metadata": {
        "colab": {
          "base_uri": "https://localhost:8080/",
          "height": 36
        },
        "id": "wDK54fIRmQni",
        "outputId": "59aba314-65a2-4fc1-acbb-4d4c138381b7"
      },
      "source": [
        "from nltk.stem.snowball import SnowballStemmer\n",
        "from nltk.stem.wordnet import WordNetLemmatizer\n",
        "from nltk.corpus import wordnet\n",
        "\n",
        "stemmer = SnowballStemmer('english')\n",
        "stemmer.stem('dogs')"
      ],
      "execution_count": 52,
      "outputs": [
        {
          "output_type": "execute_result",
          "data": {
            "application/vnd.google.colaboratory.intrinsic+json": {
              "type": "string"
            },
            "text/plain": [
              "'dog'"
            ]
          },
          "metadata": {},
          "execution_count": 52
        }
      ]
    },
    {
      "cell_type": "code",
      "metadata": {
        "id": "p5djKw5kmlLr"
      },
      "source": [
        "def filter_keywords(x):\n",
        "    words = []\n",
        "    for i in x:\n",
        "        if i in s:\n",
        "            words.append(i)\n",
        "    return words"
      ],
      "execution_count": 53,
      "outputs": []
    },
    {
      "cell_type": "code",
      "metadata": {
        "id": "mZ_vMq5LmpLX",
        "colab": {
          "base_uri": "https://localhost:8080/"
        },
        "outputId": "2c2d3882-c174-4053-c614-6d19cbb88144"
      },
      "source": [
        "smd2['keywords'] = smd2['keywords'].apply(filter_keywords)\n",
        "smd2['keywords'] = smd2['keywords'].apply(lambda x: [stemmer.stem(i) for i in x])\n",
        "smd2['keywords'] = smd2['keywords'].apply(lambda x: [str.lower(i.replace(\" \", \"\")) for i in x])"
      ],
      "execution_count": 54,
      "outputs": [
        {
          "output_type": "stream",
          "name": "stderr",
          "text": [
            "/usr/local/lib/python3.7/dist-packages/ipykernel_launcher.py:1: SettingWithCopyWarning: \n",
            "A value is trying to be set on a copy of a slice from a DataFrame.\n",
            "Try using .loc[row_indexer,col_indexer] = value instead\n",
            "\n",
            "See the caveats in the documentation: https://pandas.pydata.org/pandas-docs/stable/user_guide/indexing.html#returning-a-view-versus-a-copy\n",
            "  \"\"\"Entry point for launching an IPython kernel.\n",
            "/usr/local/lib/python3.7/dist-packages/ipykernel_launcher.py:2: SettingWithCopyWarning: \n",
            "A value is trying to be set on a copy of a slice from a DataFrame.\n",
            "Try using .loc[row_indexer,col_indexer] = value instead\n",
            "\n",
            "See the caveats in the documentation: https://pandas.pydata.org/pandas-docs/stable/user_guide/indexing.html#returning-a-view-versus-a-copy\n",
            "  \n",
            "/usr/local/lib/python3.7/dist-packages/ipykernel_launcher.py:3: SettingWithCopyWarning: \n",
            "A value is trying to be set on a copy of a slice from a DataFrame.\n",
            "Try using .loc[row_indexer,col_indexer] = value instead\n",
            "\n",
            "See the caveats in the documentation: https://pandas.pydata.org/pandas-docs/stable/user_guide/indexing.html#returning-a-view-versus-a-copy\n",
            "  This is separate from the ipykernel package so we can avoid doing imports until\n"
          ]
        }
      ]
    },
    {
      "cell_type": "code",
      "metadata": {
        "id": "C-vlIaAXnyD5",
        "colab": {
          "base_uri": "https://localhost:8080/"
        },
        "outputId": "91035920-a515-4328-bc2d-da4ab9fd3b55"
      },
      "source": [
        "smd2['genres'] = smd2['genres'].fillna('[]').apply(literal_eval).apply(lambda x: [i['name'] for i in x] if isinstance(x, list) else [])"
      ],
      "execution_count": 55,
      "outputs": [
        {
          "output_type": "stream",
          "name": "stderr",
          "text": [
            "/usr/local/lib/python3.7/dist-packages/ipykernel_launcher.py:1: SettingWithCopyWarning: \n",
            "A value is trying to be set on a copy of a slice from a DataFrame.\n",
            "Try using .loc[row_indexer,col_indexer] = value instead\n",
            "\n",
            "See the caveats in the documentation: https://pandas.pydata.org/pandas-docs/stable/user_guide/indexing.html#returning-a-view-versus-a-copy\n",
            "  \"\"\"Entry point for launching an IPython kernel.\n"
          ]
        }
      ]
    },
    {
      "cell_type": "markdown",
      "metadata": {
        "id": "Uv34F8pAooLR"
      },
      "source": [
        "Sekarang akan membuat kolom/fitur secara umum yang berisi semua data yang telah dilakukan pada tahap data preparation seperti keywords, cast, director dan genres."
      ]
    },
    {
      "cell_type": "code",
      "metadata": {
        "id": "JiL8i5ypoYe4",
        "colab": {
          "base_uri": "https://localhost:8080/"
        },
        "outputId": "10a9d348-0e8b-4f02-b1cd-d8b3205718d0"
      },
      "source": [
        "smd2['overall'] = smd2['keywords'] + smd2['cast'] + smd2['director'] + smd2['genres']\n",
        "smd2['overall'] = smd2['overall'].apply(lambda x: ' '.join(x))"
      ],
      "execution_count": 56,
      "outputs": [
        {
          "output_type": "stream",
          "name": "stderr",
          "text": [
            "/usr/local/lib/python3.7/dist-packages/ipykernel_launcher.py:1: SettingWithCopyWarning: \n",
            "A value is trying to be set on a copy of a slice from a DataFrame.\n",
            "Try using .loc[row_indexer,col_indexer] = value instead\n",
            "\n",
            "See the caveats in the documentation: https://pandas.pydata.org/pandas-docs/stable/user_guide/indexing.html#returning-a-view-versus-a-copy\n",
            "  \"\"\"Entry point for launching an IPython kernel.\n",
            "/usr/local/lib/python3.7/dist-packages/ipykernel_launcher.py:2: SettingWithCopyWarning: \n",
            "A value is trying to be set on a copy of a slice from a DataFrame.\n",
            "Try using .loc[row_indexer,col_indexer] = value instead\n",
            "\n",
            "See the caveats in the documentation: https://pandas.pydata.org/pandas-docs/stable/user_guide/indexing.html#returning-a-view-versus-a-copy\n",
            "  \n"
          ]
        }
      ]
    },
    {
      "cell_type": "code",
      "metadata": {
        "colab": {
          "base_uri": "https://localhost:8080/"
        },
        "id": "t0dE7Es_of27",
        "outputId": "180ca7ba-115d-46b6-a52d-d23405447c83"
      },
      "source": [
        "smd2.overall.head(2)"
      ],
      "execution_count": 57,
      "outputs": [
        {
          "output_type": "execute_result",
          "data": {
            "text/plain": [
              "0    jealousi toy boy friendship friend rivalri boy...\n",
              "1    boardgam disappear basedonchildren'sbook newho...\n",
              "Name: overall, dtype: object"
            ]
          },
          "metadata": {},
          "execution_count": 57
        }
      ]
    },
    {
      "cell_type": "markdown",
      "metadata": {
        "id": "5uwAcRmQiZUQ"
      },
      "source": [
        "**Ratings**"
      ]
    },
    {
      "cell_type": "markdown",
      "metadata": {
        "id": "35Rol_o2imIz"
      },
      "source": [
        "Melakukan drop pada kolom/fitur `timestamp` "
      ]
    },
    {
      "cell_type": "code",
      "metadata": {
        "id": "gn5fsswPiv7d"
      },
      "source": [
        "ratings.drop(\"timestamp\", axis = 1, inplace = True)"
      ],
      "execution_count": 58,
      "outputs": []
    },
    {
      "cell_type": "markdown",
      "metadata": {
        "id": "e8Wnoal4f9Ce"
      },
      "source": [
        "**Split Ratings**"
      ]
    },
    {
      "cell_type": "code",
      "metadata": {
        "id": "D_cyR3nWf_tz"
      },
      "source": [
        "reader = Reader()\n",
        "surprise_data = Dataset.load_from_df(ratings[['userId', 'movieId', 'rating']], reader)\n",
        "trainset, testset = train_test_split(surprise_data, test_size=0.25)"
      ],
      "execution_count": 59,
      "outputs": []
    },
    {
      "cell_type": "markdown",
      "metadata": {
        "id": "UKeo2PE4nkd8"
      },
      "source": [
        "Terdapat 2794 film dan 671 pengguna."
      ]
    },
    {
      "cell_type": "markdown",
      "metadata": {
        "id": "GSvOX0TvXfvc"
      },
      "source": [
        "## **Modeling**"
      ]
    },
    {
      "cell_type": "markdown",
      "metadata": {
        "id": "I503TSxLO1Z_"
      },
      "source": [
        "###Model Development dengan Content Based Filtering"
      ]
    },
    {
      "cell_type": "markdown",
      "metadata": {
        "id": "m08ixP-lPF_R"
      },
      "source": [
        "Sebelumnya telah melakukan data preparation, dimana telah mendapatkan dua dataframe baru. Kedua dataframe yang didapatkan akan dibuat model berdasarkan kolom/fitur yang berbeda. Adapun dataframe yang didapatkan beserta kolom/fitur yang akan digunakan:\n",
        "\n",
        "* `smd`: Movie Overviews dan Taglines.\n",
        "* `smd2`: Movie Cast, Crew, Keywords dan Genre.\n"
      ]
    },
    {
      "cell_type": "markdown",
      "metadata": {
        "id": "7D5gvbWgaEqp"
      },
      "source": [
        "**Movie Overviews dan Taglines**"
      ]
    },
    {
      "cell_type": "markdown",
      "metadata": {
        "id": "_sRwXhYENHNt"
      },
      "source": [
        "Di definisikan variabel vectorizer sebagai CountVectorizer(), dengan stop_words=’english’ berfungsi untuk menghilangkan kata semacam: i, you, the, a, this, is dan sejenisnya."
      ]
    },
    {
      "cell_type": "code",
      "metadata": {
        "id": "glsvd89hULFY"
      },
      "source": [
        "from sklearn.feature_extraction.text import CountVectorizer\n",
        "\n",
        "count = CountVectorizer(analyzer='word',ngram_range=(1, 2),min_df=0, stop_words='english')\n",
        "count_matrix = count.fit_transform(smd['description'])"
      ],
      "execution_count": 60,
      "outputs": []
    },
    {
      "cell_type": "code",
      "metadata": {
        "colab": {
          "base_uri": "https://localhost:8080/"
        },
        "id": "KPpjwYkuUeSp",
        "outputId": "aafe10dd-aedb-4b77-8277-b2ca7c98792b"
      },
      "source": [
        "count_matrix.shape"
      ],
      "execution_count": 61,
      "outputs": [
        {
          "output_type": "execute_result",
          "data": {
            "text/plain": [
              "(9099, 268124)"
            ]
          },
          "metadata": {},
          "execution_count": 61
        }
      ]
    },
    {
      "cell_type": "markdown",
      "metadata": {
        "id": "gfKGAFmo35HJ"
      },
      "source": [
        "Jika diperhatikan, matriks yang didapatkan berukuran (9099, 268124). Nilai 9099 merupakan ukuran data dan 268124 merupakan matrik kategori description. "
      ]
    },
    {
      "cell_type": "markdown",
      "metadata": {
        "id": "qPZU2AveaK0g"
      },
      "source": [
        "**Movie Cast, Crew, Keywords dan Genre**"
      ]
    },
    {
      "cell_type": "code",
      "metadata": {
        "id": "aMrkklIVaKGc"
      },
      "source": [
        "count2 = CountVectorizer(analyzer='word',ngram_range=(1, 2),min_df=0, stop_words='english')\n",
        "count_matrix2 = count2.fit_transform(smd2['overall'])"
      ],
      "execution_count": 62,
      "outputs": []
    },
    {
      "cell_type": "code",
      "metadata": {
        "colab": {
          "base_uri": "https://localhost:8080/"
        },
        "id": "lB8s4HipalNh",
        "outputId": "1e8fd64c-9c35-42be-940f-a35fb81261ee"
      },
      "source": [
        "count_matrix2.shape"
      ],
      "execution_count": 63,
      "outputs": [
        {
          "output_type": "execute_result",
          "data": {
            "text/plain": [
              "(9219, 107377)"
            ]
          },
          "metadata": {},
          "execution_count": 63
        }
      ]
    },
    {
      "cell_type": "markdown",
      "metadata": {
        "id": "1MTVkEiC3mvV"
      },
      "source": [
        "Jika diperhatikan, matriks yang didapatkan berukuran (9219, 107377). Nilai 9219 merupakan ukuran data dan 107377 merupakan matrik kategori overall. "
      ]
    },
    {
      "cell_type": "markdown",
      "metadata": {
        "id": "2aWn_We6axu1"
      },
      "source": [
        "###Model Development dengan Collaborative Filtering"
      ]
    },
    {
      "cell_type": "markdown",
      "metadata": {
        "id": "AgTTknikajTn"
      },
      "source": [
        "Dibuat sebuah fungsi evaluasi model untuk menghasilkan output berupa metric MSE dan RMSE. Fungsi evaluasi model ini akan digunakan dalam mengevaluasi beberapa model yang akan digunakan. "
      ]
    },
    {
      "cell_type": "code",
      "metadata": {
        "id": "aGl6tpITc9PF"
      },
      "source": [
        "def evaluate_model(train,test, print_metric = True):\n",
        "  rmse_train = accuracy.rmse(train, verbose = False)\n",
        "  rmse_test = accuracy.rmse(test, verbose = False)\n",
        "  mse_train = accuracy.mse(train,verbose = False)\n",
        "  mse_test = accuracy.mse(test, verbose =False)\n",
        "  if print_metric:\n",
        "    print(\"RMSE Data Training: \", rmse_train)\n",
        "    print(\"MSE Data Training: \", mse_train)\n",
        "    print(\"RMSE Data Test: \", rmse_test)\n",
        "    print(\"MSE Data Test: \", mse_test)\n",
        "  return rmse_train, mse_train, rmse_test, mse_test"
      ],
      "execution_count": 64,
      "outputs": []
    },
    {
      "cell_type": "markdown",
      "metadata": {
        "id": "uiZ-GGlyavvk"
      },
      "source": [
        "Pada tahap ini, akan dikembangkan model machine learning dengan tiga algoritma. Kemudian akan mengevaluasi performa masing-masing algoritma. Dalam kasus kali ini, model harus menggunakan algoritma sistem rekomendasi karena hasil prediksi yang diinginkan adalah sejumlah rekomendasi film.\n",
        "\n",
        "Algoritma yang digunakan, yaitu:\n",
        "* BaselineOnly\n",
        "* SVD\n",
        "* KNN"
      ]
    },
    {
      "cell_type": "markdown",
      "metadata": {
        "id": "05FWEB4if1Ah"
      },
      "source": [
        "**BaselineOnly**"
      ]
    },
    {
      "cell_type": "code",
      "metadata": {
        "colab": {
          "base_uri": "https://localhost:8080/"
        },
        "id": "PIN9vmTgfzq6",
        "outputId": "c6bc7b1f-81eb-42be-975d-c258a12566f2"
      },
      "source": [
        "baseline_model = BaselineOnly(verbose = False)\n",
        "baseline_model.fit(trainset)"
      ],
      "execution_count": 65,
      "outputs": [
        {
          "output_type": "execute_result",
          "data": {
            "text/plain": [
              "<surprise.prediction_algorithms.baseline_only.BaselineOnly at 0x7f7f2dfe4ed0>"
            ]
          },
          "metadata": {},
          "execution_count": 65
        }
      ]
    },
    {
      "cell_type": "code",
      "metadata": {
        "colab": {
          "base_uri": "https://localhost:8080/"
        },
        "id": "Twq9jxYFfxjC",
        "outputId": "36461b25-d46c-4c73-8791-c7f33ea0ed6c"
      },
      "source": [
        "train_predictions = baseline_model.test(trainset.build_testset())\n",
        "test_predictions = baseline_model.test(testset)\n",
        "_ ,_ ,rmse, mse = evaluate_model(train_predictions,test_predictions)"
      ],
      "execution_count": 66,
      "outputs": [
        {
          "output_type": "stream",
          "name": "stdout",
          "text": [
            "RMSE Data Training:  0.8559005369012332\n",
            "MSE Data Training:  0.7325657290678194\n",
            "RMSE Data Test:  0.8974497939521653\n",
            "MSE Data Test:  0.805416132664784\n"
          ]
        }
      ]
    },
    {
      "cell_type": "markdown",
      "metadata": {
        "id": "FRp0YmaLbXmu"
      },
      "source": [
        "Kode dibawah digunakan untuk menyimpan evaluasi model data validasi (data uji) yang akan dibandingkan dengan model lainnya berdasarkan metrik MSE dan RMSE."
      ]
    },
    {
      "cell_type": "code",
      "metadata": {
        "colab": {
          "base_uri": "https://localhost:8080/",
          "height": 81
        },
        "id": "tEaPFdOJhhoB",
        "outputId": "1070a2f4-7598-4c46-ad30-1540e620c269"
      },
      "source": [
        "results_df = pd.DataFrame([['BaselineOnly', rmse,mse]], columns=['Model', 'RMSE', 'MSE'])\n",
        "results_df"
      ],
      "execution_count": 67,
      "outputs": [
        {
          "output_type": "execute_result",
          "data": {
            "text/html": [
              "<div>\n",
              "<style scoped>\n",
              "    .dataframe tbody tr th:only-of-type {\n",
              "        vertical-align: middle;\n",
              "    }\n",
              "\n",
              "    .dataframe tbody tr th {\n",
              "        vertical-align: top;\n",
              "    }\n",
              "\n",
              "    .dataframe thead th {\n",
              "        text-align: right;\n",
              "    }\n",
              "</style>\n",
              "<table border=\"1\" class=\"dataframe\">\n",
              "  <thead>\n",
              "    <tr style=\"text-align: right;\">\n",
              "      <th></th>\n",
              "      <th>Model</th>\n",
              "      <th>RMSE</th>\n",
              "      <th>MSE</th>\n",
              "    </tr>\n",
              "  </thead>\n",
              "  <tbody>\n",
              "    <tr>\n",
              "      <th>0</th>\n",
              "      <td>BaselineOnly</td>\n",
              "      <td>0.89745</td>\n",
              "      <td>0.805416</td>\n",
              "    </tr>\n",
              "  </tbody>\n",
              "</table>\n",
              "</div>"
            ],
            "text/plain": [
              "          Model     RMSE       MSE\n",
              "0  BaselineOnly  0.89745  0.805416"
            ]
          },
          "metadata": {},
          "execution_count": 67
        }
      ]
    },
    {
      "cell_type": "markdown",
      "metadata": {
        "id": "mQvWUlLJaIL6"
      },
      "source": [
        "**SVD**"
      ]
    },
    {
      "cell_type": "code",
      "metadata": {
        "id": "sbdfpWfsqoYT",
        "colab": {
          "base_uri": "https://localhost:8080/"
        },
        "outputId": "5abaab70-61cb-4bc7-dd78-5c3ea13e5ce9"
      },
      "source": [
        "svd = SVD(verbose = False) \n",
        "svd.fit(trainset)"
      ],
      "execution_count": 68,
      "outputs": [
        {
          "output_type": "execute_result",
          "data": {
            "text/plain": [
              "<surprise.prediction_algorithms.matrix_factorization.SVD at 0x7f7f2e1c5990>"
            ]
          },
          "metadata": {},
          "execution_count": 68
        }
      ]
    },
    {
      "cell_type": "code",
      "metadata": {
        "colab": {
          "base_uri": "https://localhost:8080/"
        },
        "id": "jgJobAi1llqX",
        "outputId": "f3c4132a-e42b-45a7-c6d2-3fc8a7c2ec15"
      },
      "source": [
        "train_predictions2 = svd.test(trainset.build_testset())\n",
        "test_predictions2 = svd.test(testset)\n",
        "_ ,_ ,rmse_svd, mse_svd = evaluate_model(train_predictions2,test_predictions2)"
      ],
      "execution_count": 69,
      "outputs": [
        {
          "output_type": "stream",
          "name": "stdout",
          "text": [
            "RMSE Data Training:  0.643299901828757\n",
            "MSE Data Training:  0.4138347636928883\n",
            "RMSE Data Test:  0.900867167979862\n",
            "MSE Data Test:  0.8115616543440569\n"
          ]
        }
      ]
    },
    {
      "cell_type": "code",
      "metadata": {
        "colab": {
          "base_uri": "https://localhost:8080/",
          "height": 112
        },
        "id": "HoJJtyzsi7y9",
        "outputId": "90d9429c-d2ca-4ded-816e-2e361c63d69c"
      },
      "source": [
        "results_svd = pd.DataFrame([['SVD', rmse_svd, mse_svd]], columns=['Model', 'RMSE', 'MSE'])\n",
        "results_df = results_df.append(results_svd, ignore_index=True)\n",
        "results_df"
      ],
      "execution_count": 70,
      "outputs": [
        {
          "output_type": "execute_result",
          "data": {
            "text/html": [
              "<div>\n",
              "<style scoped>\n",
              "    .dataframe tbody tr th:only-of-type {\n",
              "        vertical-align: middle;\n",
              "    }\n",
              "\n",
              "    .dataframe tbody tr th {\n",
              "        vertical-align: top;\n",
              "    }\n",
              "\n",
              "    .dataframe thead th {\n",
              "        text-align: right;\n",
              "    }\n",
              "</style>\n",
              "<table border=\"1\" class=\"dataframe\">\n",
              "  <thead>\n",
              "    <tr style=\"text-align: right;\">\n",
              "      <th></th>\n",
              "      <th>Model</th>\n",
              "      <th>RMSE</th>\n",
              "      <th>MSE</th>\n",
              "    </tr>\n",
              "  </thead>\n",
              "  <tbody>\n",
              "    <tr>\n",
              "      <th>0</th>\n",
              "      <td>BaselineOnly</td>\n",
              "      <td>0.897450</td>\n",
              "      <td>0.805416</td>\n",
              "    </tr>\n",
              "    <tr>\n",
              "      <th>1</th>\n",
              "      <td>SVD</td>\n",
              "      <td>0.900867</td>\n",
              "      <td>0.811562</td>\n",
              "    </tr>\n",
              "  </tbody>\n",
              "</table>\n",
              "</div>"
            ],
            "text/plain": [
              "          Model      RMSE       MSE\n",
              "0  BaselineOnly  0.897450  0.805416\n",
              "1           SVD  0.900867  0.811562"
            ]
          },
          "metadata": {},
          "execution_count": 70
        }
      ]
    },
    {
      "cell_type": "markdown",
      "metadata": {
        "id": "UWz3Lwb2aKbj"
      },
      "source": [
        "**KNN**"
      ]
    },
    {
      "cell_type": "code",
      "metadata": {
        "colab": {
          "base_uri": "https://localhost:8080/"
        },
        "id": "UWpEoFAEn3_Q",
        "outputId": "a99c3776-6656-4d64-a4dc-6b530cba1a45"
      },
      "source": [
        "knn= KNNBasic(k = 15, min_k= 5,random_state = 42)\n",
        "knn.fit(trainset)"
      ],
      "execution_count": 71,
      "outputs": [
        {
          "output_type": "stream",
          "name": "stdout",
          "text": [
            "Computing the msd similarity matrix...\n",
            "Done computing similarity matrix.\n"
          ]
        },
        {
          "output_type": "execute_result",
          "data": {
            "text/plain": [
              "<surprise.prediction_algorithms.knns.KNNBasic at 0x7f7f2e1c5890>"
            ]
          },
          "metadata": {},
          "execution_count": 71
        }
      ]
    },
    {
      "cell_type": "code",
      "metadata": {
        "colab": {
          "base_uri": "https://localhost:8080/"
        },
        "id": "KDypz8WDoY06",
        "outputId": "313b50da-f433-4469-ffec-4d783d24b99c"
      },
      "source": [
        "train_predictions3 = knn.test(trainset.build_testset())\n",
        "test_predictions3 = knn.test(testset)\n",
        "_ ,_ ,rmse_knn, mse_knn = evaluate_model(train_predictions3,test_predictions3)"
      ],
      "execution_count": 72,
      "outputs": [
        {
          "output_type": "stream",
          "name": "stdout",
          "text": [
            "RMSE Data Training:  0.7359607813183027\n",
            "MSE Data Training:  0.5416382716386465\n",
            "RMSE Data Test:  0.9616059857615544\n",
            "MSE Data Test:  0.9246860718524509\n"
          ]
        }
      ]
    },
    {
      "cell_type": "code",
      "metadata": {
        "colab": {
          "base_uri": "https://localhost:8080/",
          "height": 143
        },
        "id": "UwJEW4cIjZBg",
        "outputId": "471f0e40-19d3-4334-e016-ba32ded2f4a0"
      },
      "source": [
        "results_knn = pd.DataFrame([['KNN', rmse_knn,mse_knn]], columns=['Model', 'RMSE', 'MSE'])\n",
        "results_df = results_df.append(results_knn, ignore_index=True)\n",
        "results_df"
      ],
      "execution_count": 73,
      "outputs": [
        {
          "output_type": "execute_result",
          "data": {
            "text/html": [
              "<div>\n",
              "<style scoped>\n",
              "    .dataframe tbody tr th:only-of-type {\n",
              "        vertical-align: middle;\n",
              "    }\n",
              "\n",
              "    .dataframe tbody tr th {\n",
              "        vertical-align: top;\n",
              "    }\n",
              "\n",
              "    .dataframe thead th {\n",
              "        text-align: right;\n",
              "    }\n",
              "</style>\n",
              "<table border=\"1\" class=\"dataframe\">\n",
              "  <thead>\n",
              "    <tr style=\"text-align: right;\">\n",
              "      <th></th>\n",
              "      <th>Model</th>\n",
              "      <th>RMSE</th>\n",
              "      <th>MSE</th>\n",
              "    </tr>\n",
              "  </thead>\n",
              "  <tbody>\n",
              "    <tr>\n",
              "      <th>0</th>\n",
              "      <td>BaselineOnly</td>\n",
              "      <td>0.897450</td>\n",
              "      <td>0.805416</td>\n",
              "    </tr>\n",
              "    <tr>\n",
              "      <th>1</th>\n",
              "      <td>SVD</td>\n",
              "      <td>0.900867</td>\n",
              "      <td>0.811562</td>\n",
              "    </tr>\n",
              "    <tr>\n",
              "      <th>2</th>\n",
              "      <td>KNN</td>\n",
              "      <td>0.961606</td>\n",
              "      <td>0.924686</td>\n",
              "    </tr>\n",
              "  </tbody>\n",
              "</table>\n",
              "</div>"
            ],
            "text/plain": [
              "          Model      RMSE       MSE\n",
              "0  BaselineOnly  0.897450  0.805416\n",
              "1           SVD  0.900867  0.811562\n",
              "2           KNN  0.961606  0.924686"
            ]
          },
          "metadata": {},
          "execution_count": 73
        }
      ]
    },
    {
      "cell_type": "markdown",
      "metadata": {
        "id": "oa4ILst9XhCp"
      },
      "source": [
        "## **Evaluation**"
      ]
    },
    {
      "cell_type": "markdown",
      "metadata": {
        "id": "-o6FWn4-7yCa"
      },
      "source": [
        "### Evaluation Model dengan Content Based Filtering"
      ]
    },
    {
      "cell_type": "markdown",
      "metadata": {
        "id": "-fBnvHUc78NR"
      },
      "source": [
        "**Movie Overviews dan Taglines**"
      ]
    },
    {
      "cell_type": "markdown",
      "metadata": {
        "id": "be_b1HWg4Nao"
      },
      "source": [
        "Sekarang, akan menghitung derajat kesamaan (similarity degree) antar description film dengan teknik cosine similarity. Di sini, kita menggunakan fungsi cosine_similarity dari library sklearn. "
      ]
    },
    {
      "cell_type": "code",
      "metadata": {
        "id": "IesrdAxr_QJ-",
        "colab": {
          "base_uri": "https://localhost:8080/"
        },
        "outputId": "58bd76ed-58ba-4d47-9a56-41beef4986e3"
      },
      "source": [
        "from sklearn.metrics.pairwise import linear_kernel, cosine_similarity\n",
        "cosine_sim = cosine_similarity(count_matrix, count_matrix)\n",
        "cosine_sim"
      ],
      "execution_count": 74,
      "outputs": [
        {
          "output_type": "execute_result",
          "data": {
            "text/plain": [
              "array([[1.        , 0.01206221, 0.        , ..., 0.        , 0.00756816,\n",
              "        0.        ],\n",
              "       [0.01206221, 1.        , 0.02509626, ..., 0.02247759, 0.02163543,\n",
              "        0.        ],\n",
              "       [0.        , 0.02509626, 1.        , ..., 0.        , 0.01574608,\n",
              "        0.02685108],\n",
              "       ...,\n",
              "       [0.        , 0.02247759, 0.        , ..., 1.        , 0.09166985,\n",
              "        0.        ],\n",
              "       [0.00756816, 0.02163543, 0.01574608, ..., 0.09166985, 1.        ,\n",
              "        0.        ],\n",
              "       [0.        , 0.        , 0.02685108, ..., 0.        , 0.        ,\n",
              "        1.        ]])"
            ]
          },
          "metadata": {},
          "execution_count": 74
        }
      ]
    },
    {
      "cell_type": "markdown",
      "metadata": {
        "id": "Ly-gR8GO4qOK"
      },
      "source": [
        "Pada tahapan ini, menghitung cosine similarity dataframe count_matrix yang diperoleh pada tahapan sebelumnya. Dengan satu baris kode untuk memanggil fungsi cosine similarity dari library sklearn, telah berhasil menghitung kesamaan (similarity) antar `description` film. Kode di atas menghasilkan keluaran berupa matriks kesamaan dalam bentuk array. \n",
        "\n",
        "Selanjutnya, melihat matriks kesamaan setiap `description` film dengan menampilkan nama `description` film dalam 5 sampel kolom (axis = 1) dan 10 sampel baris (axis=0)."
      ]
    },
    {
      "cell_type": "code",
      "metadata": {
        "colab": {
          "base_uri": "https://localhost:8080/",
          "height": 1000
        },
        "id": "eWfdLra-F0Ri",
        "outputId": "24435c87-5d12-4199-aa77-720a853d3962"
      },
      "source": [
        "# Membuat dataframe dari variabel cosine_sim dengan baris dan kolom berupa deskripsi film\n",
        "cosine_sim_df = pd.DataFrame(cosine_sim, index=smd['description'], columns=smd['description'])\n",
        "print('Shape:', cosine_sim_df.shape)\n",
        " \n",
        "# Melihat similarity matrix pada setiap deskripsi film\n",
        "cosine_sim_df.sample(5, axis=1).sample(10, axis=0)"
      ],
      "execution_count": 75,
      "outputs": [
        {
          "output_type": "stream",
          "name": "stdout",
          "text": [
            "Shape: (9099, 9099)\n"
          ]
        },
        {
          "output_type": "execute_result",
          "data": {
            "text/html": [
              "<div>\n",
              "<style scoped>\n",
              "    .dataframe tbody tr th:only-of-type {\n",
              "        vertical-align: middle;\n",
              "    }\n",
              "\n",
              "    .dataframe tbody tr th {\n",
              "        vertical-align: top;\n",
              "    }\n",
              "\n",
              "    .dataframe thead th {\n",
              "        text-align: right;\n",
              "    }\n",
              "</style>\n",
              "<table border=\"1\" class=\"dataframe\">\n",
              "  <thead>\n",
              "    <tr style=\"text-align: right;\">\n",
              "      <th>description</th>\n",
              "      <th>The complicated life and controversial suicide of George Reeves is investigated by a fictional private detective who finds that there are reasons to suspect that Reeves may not have killed himself after all. The detective also finds that there is a little of George Reeves in himself, and maybe, each of us.Living in Hollywood can make you famous. Dying in Hollywood can make you a legend.</th>\n",
              "      <th>In 1914, World War I, the bloodiest war ever at that time in human history, was well under way. However on Christmas Eve, numerous sections of the Western Front called an informal, and unauthorized, truce where the various front-line soldiers of the conflict peacefully met each other in No Man's Land to share a precious pause in the carnage with a fleeting brotherhood.France 1914. A moment of humanity that made history.</th>\n",
              "      <th>Eyal, an Israeli Mossad agent, is given the mission to track down and kill the very old Alfred Himmelman, an ex-Nazi officer, who might still be alive. Pretending to be a tourist guide, he befriends his grandson Axel, in Israel to visit his sister Pia. The two men set out on a tour of the country during which, Axel challenges Eyal's values.He was trained to hate until he met the enemy.</th>\n",
              "      <th>A mixed group of individuals - lesbian, gays, and heterosexuals who all frequent a local bar struggle to accept each others lifestyles. However when the two gays are attacked and fight back and ultimately rape one of their attackers, the group becomes strongly divided on their actions.</th>\n",
              "      <th>When minor-league hockey player Derek Thompson -- who has a penchant for knocking out his opponents' teeth every time he plays -- disillusions a fan, he is sentenced to a stint for one week as a bona fide, tutu-clad, real-life tooth fairy. Soon, Derek is inspired to rekindle his youthful dreams.You can't handle the tooth.</th>\n",
              "    </tr>\n",
              "    <tr>\n",
              "      <th>description</th>\n",
              "      <th></th>\n",
              "      <th></th>\n",
              "      <th></th>\n",
              "      <th></th>\n",
              "      <th></th>\n",
              "    </tr>\n",
              "  </thead>\n",
              "  <tbody>\n",
              "    <tr>\n",
              "      <th>A French man spies on a lovely younger woman across the way. When he's spotted by the woman shortly after being questioned by the police about a local murder, the man simple life becomes more complicated.</th>\n",
              "      <td>0.036032</td>\n",
              "      <td>0.054047</td>\n",
              "      <td>0.000000</td>\n",
              "      <td>0.023357</td>\n",
              "      <td>0.019277</td>\n",
              "    </tr>\n",
              "    <tr>\n",
              "      <th>Two westerners, a priest and a teacher find themselves in the middle of the Rwandan genocide and face a moral dilemna. Do they place themselves in danger and protect the refugees, or escape the country with their lives? Based on a true story.What would you risk to make a difference?</th>\n",
              "      <td>0.034315</td>\n",
              "      <td>0.000000</td>\n",
              "      <td>0.017379</td>\n",
              "      <td>0.000000</td>\n",
              "      <td>0.000000</td>\n",
              "    </tr>\n",
              "    <tr>\n",
              "      <th>Showman Jerry Travers is working for producer Horace Hardwick in London. Jerry demonstrates his new dance steps late one night in Horace's hotel, much to the annoyance of sleeping Dale Tremont below. She goes upstairs to complain and the two are immediately attracted to each other. Complications arise when Dale mistakes Jerry for Horace.They're Dancing Cheek-To-Cheek Again!</th>\n",
              "      <td>0.000000</td>\n",
              "      <td>0.000000</td>\n",
              "      <td>0.000000</td>\n",
              "      <td>0.000000</td>\n",
              "      <td>0.000000</td>\n",
              "    </tr>\n",
              "    <tr>\n",
              "      <th>Aileen Wuornos is an emotionally scarred highway hooker who shoots a sadistic trick who rapes her and ultimately becomes America's first female serial killer.The first female serial killer of America</th>\n",
              "      <td>0.000000</td>\n",
              "      <td>0.000000</td>\n",
              "      <td>0.000000</td>\n",
              "      <td>0.020838</td>\n",
              "      <td>0.000000</td>\n",
              "    </tr>\n",
              "    <tr>\n",
              "      <th>It's Ted the Bellhop's first night on the job...and the hotel's very unusual guests are about to place him in some outrageous predicaments. It seems that this evening's room service is serving up one unbelievable happening after another.Twelve outrageous guests. Four scandalous requests. And one lone bellhop, in his first day on the job, who's in for the wildest New year's Eve of his life.</th>\n",
              "      <td>0.013955</td>\n",
              "      <td>0.013955</td>\n",
              "      <td>0.000000</td>\n",
              "      <td>0.000000</td>\n",
              "      <td>0.014932</td>\n",
              "    </tr>\n",
              "    <tr>\n",
              "      <th>Joe Young is a devout Mormon living in L.A. trying to raise enough money to go back to Utah and marry his girlfriend, Lisa. Joe is spreading the word about the church of Latter Day Saints one day when he's confronted by two burly bodyguards. A scuffle breaks out, and Joe's martial arts skills impress Maxxx Orbison, who directs pornographic movies.Fighting crime never felt so good!</th>\n",
              "      <td>0.012349</td>\n",
              "      <td>0.000000</td>\n",
              "      <td>0.000000</td>\n",
              "      <td>0.000000</td>\n",
              "      <td>0.000000</td>\n",
              "    </tr>\n",
              "    <tr>\n",
              "      <th>Teenagers in a small town are dropping like flies, apparently in the grip of mass hysteria causing their suicides. A cop's daughter, Nancy Thompson (Heather Langenkamp) traces the cause to child molester Fred Krueger (Robert Englund), who was burned alive by angry parents many years before. Krueger has now come back in the dreams of his killers' children, claiming their lives as his revenge. Nancy and her boyfriend, Glen (Johnny Depp), must devise a plan to lure the monster out of the realm of nightmares and into the real world...If Nancy Doesn't Wake Up Screaming, She Won't Wake Up At All!</th>\n",
              "      <td>0.000000</td>\n",
              "      <td>0.010063</td>\n",
              "      <td>0.010193</td>\n",
              "      <td>0.000000</td>\n",
              "      <td>0.032303</td>\n",
              "    </tr>\n",
              "    <tr>\n",
              "      <th>Criminal on the run, Marion Crane takes refuge at the motel operated by Norman Bates - a troubled man whose victims encounter a grisly fate at the hands of his \"mother.\" Marion soon becomes the next victim and her disappearance prompts inquiries from her sister and a private investigator. They both soon discover the morbid bond linking Norman to his mysterious \"mother\" at the Bates Motel.A new vision of a classic nightmare.</th>\n",
              "      <td>0.011667</td>\n",
              "      <td>0.011667</td>\n",
              "      <td>0.011817</td>\n",
              "      <td>0.000000</td>\n",
              "      <td>0.024967</td>\n",
              "    </tr>\n",
              "    <tr>\n",
              "      <th>A strange funeral director tells four strange tales of horror with an African American focus to three drug dealers he traps in his place of business.Chill or be Chilled</th>\n",
              "      <td>0.000000</td>\n",
              "      <td>0.000000</td>\n",
              "      <td>0.000000</td>\n",
              "      <td>0.000000</td>\n",
              "      <td>0.000000</td>\n",
              "    </tr>\n",
              "    <tr>\n",
              "      <th>When Leela is insulted by a group of space-rednecks (like regular rednecks, but in space) she enters the Planet Express ship in a demolition derby.  She emerges victorious, but when she brings the damaged ship home and the Professor sees the fuel gauge, he's enraged by the hit he's going to take at the Dark Matter pump.  Now the crew have to find a way to break Mom's stranglehold on starship fuel, even if they have to wade through a Lord of the Rings-inspired fantasy-land to do it!All-New Feature-Length Quest</th>\n",
              "      <td>0.000000</td>\n",
              "      <td>0.022172</td>\n",
              "      <td>0.000000</td>\n",
              "      <td>0.028745</td>\n",
              "      <td>0.011862</td>\n",
              "    </tr>\n",
              "  </tbody>\n",
              "</table>\n",
              "</div>"
            ],
            "text/plain": [
              "description                                         The complicated life and controversial suicide of George Reeves is investigated by a fictional private detective who finds that there are reasons to suspect that Reeves may not have killed himself after all. The detective also finds that there is a little of George Reeves in himself, and maybe, each of us.Living in Hollywood can make you famous. Dying in Hollywood can make you a legend.  ...  When minor-league hockey player Derek Thompson -- who has a penchant for knocking out his opponents' teeth every time he plays -- disillusions a fan, he is sentenced to a stint for one week as a bona fide, tutu-clad, real-life tooth fairy. Soon, Derek is inspired to rekindle his youthful dreams.You can't handle the tooth.\n",
              "description                                                                                                                                                                                                                                                                                                                                                                                                                                                ...                                                                                                                                                                                                                                                                                                                                     \n",
              "A French man spies on a lovely younger woman ac...                                           0.036032                                                                                                                                                                                                                                                                                                                                                      ...                                           0.019277                                                                                                                                                                                                                                                                                  \n",
              "Two westerners, a priest and a teacher find the...                                           0.034315                                                                                                                                                                                                                                                                                                                                                      ...                                           0.000000                                                                                                                                                                                                                                                                                  \n",
              "Showman Jerry Travers is working for producer H...                                           0.000000                                                                                                                                                                                                                                                                                                                                                      ...                                           0.000000                                                                                                                                                                                                                                                                                  \n",
              "Aileen Wuornos is an emotionally scarred highwa...                                           0.000000                                                                                                                                                                                                                                                                                                                                                      ...                                           0.000000                                                                                                                                                                                                                                                                                  \n",
              "It's Ted the Bellhop's first night on the job.....                                           0.013955                                                                                                                                                                                                                                                                                                                                                      ...                                           0.014932                                                                                                                                                                                                                                                                                  \n",
              "Joe Young is a devout Mormon living in L.A. try...                                           0.012349                                                                                                                                                                                                                                                                                                                                                      ...                                           0.000000                                                                                                                                                                                                                                                                                  \n",
              "Teenagers in a small town are dropping like fli...                                           0.000000                                                                                                                                                                                                                                                                                                                                                      ...                                           0.032303                                                                                                                                                                                                                                                                                  \n",
              "Criminal on the run, Marion Crane takes refuge ...                                           0.011667                                                                                                                                                                                                                                                                                                                                                      ...                                           0.024967                                                                                                                                                                                                                                                                                  \n",
              "A strange funeral director tells four strange t...                                           0.000000                                                                                                                                                                                                                                                                                                                                                      ...                                           0.000000                                                                                                                                                                                                                                                                                  \n",
              "When Leela is insulted by a group of space-redn...                                           0.000000                                                                                                                                                                                                                                                                                                                                                      ...                                           0.011862                                                                                                                                                                                                                                                                                  \n",
              "\n",
              "[10 rows x 5 columns]"
            ]
          },
          "metadata": {},
          "execution_count": 75
        }
      ]
    },
    {
      "cell_type": "markdown",
      "metadata": {
        "id": "9zIFKN9y6ZNp"
      },
      "source": [
        "Dengan cosine similarity berhasil mengidentifikasi kesamaan antara satu description film dengan description film lainnya. Shape (9099, 9099) merupakan ukuran matriks similarity dari data yang dimiliki. Ukuran tersebut merupakan identifikasi tingkat kesamaan pada 9099 description film terhadap sumbu X dan sumbu Y. Namun hanya diambil sampel 10 description film pada baris vertikal dan 5 sampel description film pada sumbu horizontal. \n",
        "\n",
        "Jika diperhatikan hasilnya, terdapat angka-angka dimana jika angka tersebut mendekati 1 artinya semakin memiliki kesamaan dengan description film (sumbu x dengan sumbu y).  "
      ]
    },
    {
      "cell_type": "markdown",
      "metadata": {
        "id": "fjE80voJ7-Va"
      },
      "source": [
        "**Movie Cast, Crew, Keywords dan Genre**"
      ]
    },
    {
      "cell_type": "markdown",
      "metadata": {
        "id": "ncuu7MyM4ZI2"
      },
      "source": [
        "Selanjutnya, akan menghitung derajat kesamaan (similarity degree) antar overall film dengan teknik cosine similarity. Di sini, kita menggunakan fungsi cosine_similarity dari library sklearn. "
      ]
    },
    {
      "cell_type": "code",
      "metadata": {
        "id": "w3-gNQLlATH9",
        "colab": {
          "base_uri": "https://localhost:8080/"
        },
        "outputId": "80771d17-8c80-43f5-9969-353c0a9d2107"
      },
      "source": [
        "cosine_sim2 = cosine_similarity(count_matrix2, count_matrix2)\n",
        "cosine_sim2"
      ],
      "execution_count": 76,
      "outputs": [
        {
          "output_type": "execute_result",
          "data": {
            "text/plain": [
              "array([[1.        , 0.02441931, 0.02738955, ..., 0.02135407, 0.02135407,\n",
              "        0.02135407],\n",
              "       [0.02441931, 1.        , 0.        , ..., 0.        , 0.        ,\n",
              "        0.        ],\n",
              "       [0.02738955, 0.        , 1.        , ..., 0.02514977, 0.02514977,\n",
              "        0.02514977],\n",
              "       ...,\n",
              "       [0.02135407, 0.        , 0.02514977, ..., 1.        , 1.        ,\n",
              "        1.        ],\n",
              "       [0.02135407, 0.        , 0.02514977, ..., 1.        , 1.        ,\n",
              "        1.        ],\n",
              "       [0.02135407, 0.        , 0.02514977, ..., 1.        , 1.        ,\n",
              "        1.        ]])"
            ]
          },
          "metadata": {},
          "execution_count": 76
        }
      ]
    },
    {
      "cell_type": "markdown",
      "metadata": {
        "id": "m-Ayzj4o5Ki8"
      },
      "source": [
        "Menghitung cosine similarity dataframe count_matrix2 yang diperoleh pada tahapan sebelumnya. Dengan satu baris kode untuk memanggil fungsi cosine similarity dari library sklearn, telah berhasil menghitung kesamaan (similarity) antar `overall` film. Kode di atas menghasilkan keluaran berupa matriks kesamaan dalam bentuk array. \n",
        "\n",
        "Selanjutnya, melihat matriks kesamaan setiap `overall` film dengan menampilkan nama `overall` film dalam 5 sampel kolom (axis = 1) dan 10 sampel baris (axis=0)."
      ]
    },
    {
      "cell_type": "code",
      "metadata": {
        "colab": {
          "base_uri": "https://localhost:8080/",
          "height": 1000
        },
        "id": "65PIJa5cGW_r",
        "outputId": "a2fbe3c0-02b6-477e-9596-5330751f4026"
      },
      "source": [
        "# Membuat dataframe dari variabel cosine_sim dengan baris dan kolom berupa keywords, cast, director dan genres film\n",
        "cosine_sim_df2 = pd.DataFrame(cosine_sim2, index=smd2['overall'], columns=smd2['overall'])\n",
        "print('Shape:', cosine_sim_df.shape)\n",
        " \n",
        "# Melihat similarity matrix pada setiap keywords, cast, director dan genres film\n",
        "cosine_sim_df2.sample(5, axis=1).sample(10, axis=0)"
      ],
      "execution_count": 77,
      "outputs": [
        {
          "output_type": "stream",
          "name": "stdout",
          "text": [
            "Shape: (9099, 9099)\n"
          ]
        },
        {
          "output_type": "execute_result",
          "data": {
            "text/html": [
              "<div>\n",
              "<style scoped>\n",
              "    .dataframe tbody tr th:only-of-type {\n",
              "        vertical-align: middle;\n",
              "    }\n",
              "\n",
              "    .dataframe tbody tr th {\n",
              "        vertical-align: top;\n",
              "    }\n",
              "\n",
              "    .dataframe thead th {\n",
              "        text-align: right;\n",
              "    }\n",
              "</style>\n",
              "<table border=\"1\" class=\"dataframe\">\n",
              "  <thead>\n",
              "    <tr style=\"text-align: right;\">\n",
              "      <th>overall</th>\n",
              "      <th>kukluxklan americanfootbal trainer sportsteam racepolit apartheid sport highschool racialsegreg racist basedontruestori americanfootballplay xenophobia denzelwashington willpatton ryanhurst boazyakin boazyakin boazyakin Drama</th>\n",
              "      <th>chase polic murder mute marinazudina fayripley evanrichards anthonywaller anthonywaller anthonywaller Thriller Foreign</th>\n",
              "      <th>witch vampir crypt gothichorror ironmask barbarasteele johnrichardson ivogarrani mariobava mariobava mariobava Horror</th>\n",
              "      <th>orlandobloom forestwhitaker conradkemp jérômesalle jérômesalle jérômesalle Crime Drama Thriller</th>\n",
              "      <th>sexualobsess rape sex sadist babi kidnap exploit wound suffer victim sadism knife tool sequel controversi decept murder sexploit gore mute blood sexualviol tortur sadist cruelti violentdeath brutal violenc heldcapt captiv extremesad sexualsad fece bannedfilm trilog apart pervert humili death rapist bdsm sexualtortur manwithglass defec evilman insect verylittledialogu laurencer.harvey ashlynnyennie dominicborrelli tomsix tomsix tomsix Drama Horror Crime</th>\n",
              "    </tr>\n",
              "    <tr>\n",
              "      <th>overall</th>\n",
              "      <th></th>\n",
              "      <th></th>\n",
              "      <th></th>\n",
              "      <th></th>\n",
              "      <th></th>\n",
              "    </tr>\n",
              "  </thead>\n",
              "  <tbody>\n",
              "    <tr>\n",
              "      <th>patrickdempsey sethgreen gerardomejía steverash steverash steverash Drama Comedy Romance Family</th>\n",
              "      <td>0.028072</td>\n",
              "      <td>0.000000</td>\n",
              "      <td>0.0</td>\n",
              "      <td>0.038490</td>\n",
              "      <td>0.017353</td>\n",
              "    </tr>\n",
              "    <tr>\n",
              "      <th>thesimpson blue daycar toddler butterfli cocoon davidsilverman davidsilverman davidsilverman Animation Comedy</th>\n",
              "      <td>0.000000</td>\n",
              "      <td>0.000000</td>\n",
              "      <td>0.0</td>\n",
              "      <td>0.000000</td>\n",
              "      <td>0.000000</td>\n",
              "    </tr>\n",
              "    <tr>\n",
              "      <th>bank technolog blackmail hacker seattl computerhack harrisonford paulbettany virginiamadsen richardloncraine richardloncraine richardloncraine Thriller</th>\n",
              "      <td>0.000000</td>\n",
              "      <td>0.031265</td>\n",
              "      <td>0.0</td>\n",
              "      <td>0.034816</td>\n",
              "      <td>0.000000</td>\n",
              "    </tr>\n",
              "    <tr>\n",
              "      <th>hero worldwarii audiemurphy marshallthompson charlesdrake jessehibbs jessehibbs jessehibbs Action Romance Drama History War</th>\n",
              "      <td>0.025392</td>\n",
              "      <td>0.000000</td>\n",
              "      <td>0.0</td>\n",
              "      <td>0.034816</td>\n",
              "      <td>0.015696</td>\n",
              "    </tr>\n",
              "    <tr>\n",
              "      <th>birthday half-broth priest polynesia barbrawl christma piano tikicultur johnwayne elizabethallen leemarvin johnford johnford johnford Adventure Comedy Romance</th>\n",
              "      <td>0.000000</td>\n",
              "      <td>0.000000</td>\n",
              "      <td>0.0</td>\n",
              "      <td>0.000000</td>\n",
              "      <td>0.000000</td>\n",
              "    </tr>\n",
              "    <tr>\n",
              "      <th>gorilla dyinganddeath charlizetheron radeserbedzija billpaxton ronunderwood ronunderwood ronunderwood Action Adventure Family Fantasy</th>\n",
              "      <td>0.000000</td>\n",
              "      <td>0.000000</td>\n",
              "      <td>0.0</td>\n",
              "      <td>0.000000</td>\n",
              "      <td>0.000000</td>\n",
              "    </tr>\n",
              "    <tr>\n",
              "      <th>centralandsouthamerica predat alien stalk invis commando 3d arnoldschwarzenegger carlweathers elpidiacarrillo johnmctiernan johnmctiernan johnmctiernan Science Fiction Action Adventure Thriller</th>\n",
              "      <td>0.000000</td>\n",
              "      <td>0.027390</td>\n",
              "      <td>0.0</td>\n",
              "      <td>0.030500</td>\n",
              "      <td>0.000000</td>\n",
              "    </tr>\n",
              "    <tr>\n",
              "      <th>ira britnoir filmnoir jamesmason robertnewton cyrilcusack carolreed carolreed carolreed Drama Crime</th>\n",
              "      <td>0.027086</td>\n",
              "      <td>0.000000</td>\n",
              "      <td>0.0</td>\n",
              "      <td>0.074278</td>\n",
              "      <td>0.033487</td>\n",
              "    </tr>\n",
              "    <tr>\n",
              "      <th>writer filmindustri jeffbridges alanarkin blythedanner howardzieff howardzieff howardzieff Comedy Western</th>\n",
              "      <td>0.000000</td>\n",
              "      <td>0.000000</td>\n",
              "      <td>0.0</td>\n",
              "      <td>0.000000</td>\n",
              "      <td>0.000000</td>\n",
              "    </tr>\n",
              "    <tr>\n",
              "      <th>christmastre salesman frenchcanadian paulrudd paulgiamatti sallyhawkins philmorrison philmorrison philmorrison Comedy Drama</th>\n",
              "      <td>0.027086</td>\n",
              "      <td>0.000000</td>\n",
              "      <td>0.0</td>\n",
              "      <td>0.037139</td>\n",
              "      <td>0.016744</td>\n",
              "    </tr>\n",
              "  </tbody>\n",
              "</table>\n",
              "</div>"
            ],
            "text/plain": [
              "overall                                             kukluxklan americanfootbal trainer sportsteam racepolit apartheid sport highschool racialsegreg racist basedontruestori americanfootballplay xenophobia denzelwashington willpatton ryanhurst boazyakin boazyakin boazyakin Drama  ...  sexualobsess rape sex sadist babi kidnap exploit wound suffer victim sadism knife tool sequel controversi decept murder sexploit gore mute blood sexualviol tortur sadist cruelti violentdeath brutal violenc heldcapt captiv extremesad sexualsad fece bannedfilm trilog apart pervert humili death rapist bdsm sexualtortur manwithglass defec evilman insect verylittledialogu laurencer.harvey ashlynnyennie dominicborrelli tomsix tomsix tomsix Drama Horror Crime\n",
              "overall                                                                                                                                                                                                                                                                                ...                                                                                                                                                                                                                                                                                                                                                                                                                                                                          \n",
              "patrickdempsey sethgreen gerardomejía steverash...                                           0.028072                                                                                                                                                                                  ...                                           0.017353                                                                                                                                                                                                                                                                                                                                                                                                                       \n",
              "thesimpson blue daycar toddler butterfli cocoon...                                           0.000000                                                                                                                                                                                  ...                                           0.000000                                                                                                                                                                                                                                                                                                                                                                                                                       \n",
              "bank technolog blackmail hacker seattl computer...                                           0.000000                                                                                                                                                                                  ...                                           0.000000                                                                                                                                                                                                                                                                                                                                                                                                                       \n",
              "hero worldwarii audiemurphy marshallthompson ch...                                           0.025392                                                                                                                                                                                  ...                                           0.015696                                                                                                                                                                                                                                                                                                                                                                                                                       \n",
              "birthday half-broth priest polynesia barbrawl c...                                           0.000000                                                                                                                                                                                  ...                                           0.000000                                                                                                                                                                                                                                                                                                                                                                                                                       \n",
              "gorilla dyinganddeath charlizetheron radeserbed...                                           0.000000                                                                                                                                                                                  ...                                           0.000000                                                                                                                                                                                                                                                                                                                                                                                                                       \n",
              "centralandsouthamerica predat alien stalk invis...                                           0.000000                                                                                                                                                                                  ...                                           0.000000                                                                                                                                                                                                                                                                                                                                                                                                                       \n",
              "ira britnoir filmnoir jamesmason robertnewton c...                                           0.027086                                                                                                                                                                                  ...                                           0.033487                                                                                                                                                                                                                                                                                                                                                                                                                       \n",
              "writer filmindustri jeffbridges alanarkin blyth...                                           0.000000                                                                                                                                                                                  ...                                           0.000000                                                                                                                                                                                                                                                                                                                                                                                                                       \n",
              "christmastre salesman frenchcanadian paulrudd p...                                           0.027086                                                                                                                                                                                  ...                                           0.016744                                                                                                                                                                                                                                                                                                                                                                                                                       \n",
              "\n",
              "[10 rows x 5 columns]"
            ]
          },
          "metadata": {},
          "execution_count": 77
        }
      ]
    },
    {
      "cell_type": "markdown",
      "metadata": {
        "id": "QGHkaLHy7rKo"
      },
      "source": [
        "### Evaluation Model dengan Collaborative Filtering"
      ]
    },
    {
      "cell_type": "code",
      "metadata": {
        "id": "D2w_CRzXfNUb",
        "colab": {
          "base_uri": "https://localhost:8080/",
          "height": 410
        },
        "outputId": "07410c8a-fc58-49a6-86f5-5b10d3d22d6e"
      },
      "source": [
        "import matplotlib.pyplot as plt\n",
        "import seaborn as sns\n",
        "\n",
        "sns.set(rc = {'figure.figsize':(10,6)})\n",
        "sns.set_palette('Set2')\n",
        "sns.set_style(\"whitegrid\")\n",
        "sns.barplot(x='RMSE', y='Model', data=results_df)\n",
        "plt.title('RMSE for each model')\n",
        "plt.show()"
      ],
      "execution_count": 78,
      "outputs": [
        {
          "output_type": "display_data",
          "data": {
            "image/png": "[encoded data removed]",
            "text/plain": [
              "<Figure size 720x432 with 1 Axes>"
            ]
          },
          "metadata": {}
        }
      ]
    },
    {
      "cell_type": "markdown",
      "metadata": {
        "id": "zz9XjsVDkgnL"
      },
      "source": [
        "Nilai RMSE terendah adalah model baseline."
      ]
    },
    {
      "cell_type": "code",
      "metadata": {
        "colab": {
          "base_uri": "https://localhost:8080/",
          "height": 410
        },
        "id": "9NlpHCgp6pHB",
        "outputId": "72a94413-ca48-44a1-fbc5-b415ffcbfa8c"
      },
      "source": [
        "sns.barplot(x='MSE', y='Model', data=results_df)\n",
        "plt.title('MSE for each model')\n",
        "plt.show()"
      ],
      "execution_count": 79,
      "outputs": [
        {
          "output_type": "display_data",
          "data": {
            "image/png": "[encoded data removed]",
            "text/plain": [
              "<Figure size 720x432 with 1 Axes>"
            ]
          },
          "metadata": {}
        }
      ]
    },
    {
      "cell_type": "markdown",
      "metadata": {
        "id": "0_LqsS0skrfy"
      },
      "source": [
        "Melakukan visualisasi MSE yang dimana hasil dari MSE  model baseline menghasilkan nilai yang kecil dibandingkan dengan kedua model lainnya."
      ]
    },
    {
      "cell_type": "markdown",
      "metadata": {
        "id": "8QoCSp8XZ99t"
      },
      "source": [
        "## **Prediction**"
      ]
    },
    {
      "cell_type": "markdown",
      "metadata": {
        "id": "VSH1pgAm0rRQ"
      },
      "source": [
        "###Prediksi dengan Content Based Filtering"
      ]
    },
    {
      "cell_type": "markdown",
      "metadata": {
        "id": "uHeygrmM_k5R"
      },
      "source": [
        "**Movie Overviews dan Taglines**"
      ]
    },
    {
      "cell_type": "code",
      "metadata": {
        "id": "LsyNRNfV_XC6"
      },
      "source": [
        "smd = smd.reset_index()\n",
        "titles = smd['title']\n",
        "indices = pd.Series(smd.index, index=smd['title'])"
      ],
      "execution_count": 80,
      "outputs": []
    },
    {
      "cell_type": "markdown",
      "metadata": {
        "id": "0Grfe1DK1_Yg"
      },
      "source": [
        "Membuat sebuah fungsi untuk mendapatkan sejumlah rekomendasi film. \n",
        "Dengan mengambil beberapa data yang mirip (similarity) dan akan mengambil data dari bobot (tingkat kesamaan) tertinggi ke terendah dan memasukkannya ke variabel `sim_scores`."
      ]
    },
    {
      "cell_type": "code",
      "metadata": {
        "id": "NDQnwZ7P7qoa"
      },
      "source": [
        "def get_recommendations(title):\n",
        "    idx = indices[title]\n",
        "    sim_scores = list(enumerate(cosine_sim[idx]))\n",
        "    sim_scores = sorted(sim_scores, key=lambda x: x[1], reverse=True)\n",
        "    sim_scores = sim_scores[1:31]\n",
        "    movie_indices = [i[0] for i in sim_scores]\n",
        "    sim_values = [i[1]for i in sim_scores]\n",
        "    return titles.iloc[movie_indices], sim_values"
      ],
      "execution_count": 81,
      "outputs": []
    },
    {
      "cell_type": "markdown",
      "metadata": {
        "id": "p9vjtQn32IgS"
      },
      "source": [
        "Membuat sebuah fungsi evaluasi metrik untuk mengevaluasi seberapa presisi film yang disarankan. Metrik yang dibuat adalah metrik `precision`."
      ]
    },
    {
      "cell_type": "code",
      "metadata": {
        "id": "WlKcdMv278u3"
      },
      "source": [
        "def precision(gr,sv):\n",
        "  result = []\n",
        "  gr = len(gr)\n",
        "  sv = sv[:gr]\n",
        "  for x in sv:\n",
        "    if x>0.1:\n",
        "      result.append(x)\n",
        "  results = len(result)\n",
        "  precision = results/gr\n",
        "  print(\"Jumlah Rekomendasi Film yang sesuai: \", len(result))\n",
        "  print(\"Banyaknya Rekomendasi Film: \", gr)\n",
        "  return round(precision,2)"
      ],
      "execution_count": 82,
      "outputs": []
    },
    {
      "cell_type": "markdown",
      "metadata": {
        "id": "zizDHEvy-Jn-"
      },
      "source": [
        "Hasil prediksi"
      ]
    },
    {
      "cell_type": "code",
      "metadata": {
        "colab": {
          "base_uri": "https://localhost:8080/"
        },
        "id": "0LVHhWZZ_Mpm",
        "outputId": "46f74ed2-f035-4c56-e01c-913bfe4f672d"
      },
      "source": [
        "gr,sv = get_recommendations('The Dark Knight')\n",
        "gr"
      ],
      "execution_count": 83,
      "outputs": [
        {
          "output_type": "execute_result",
          "data": {
            "text/plain": [
              "7931                      The Dark Knight Rises\n",
              "132                              Batman Forever\n",
              "1113                             Batman Returns\n",
              "7565                 Batman: Under the Red Hood\n",
              "524                                      Batman\n",
              "7901                           Batman: Year One\n",
              "8227    Batman: The Dark Knight Returns, Part 2\n",
              "8165    Batman: The Dark Knight Returns, Part 1\n",
              "4489                                      Q & A\n",
              "2579               Batman: Mask of the Phantasm\n",
              "2696                                        JFK\n",
              "7933         Sherlock Holmes: A Game of Shadows\n",
              "7344                        Law Abiding Citizen\n",
              "6144                              Batman Begins\n",
              "3730                    Dr. Mabuse, the Gambler\n",
              "8325                            Despicable Me 2\n",
              "6765                          The Hunting Party\n",
              "7242                  The File on Thelma Jordon\n",
              "5511                            To End All Wars\n",
              "8917         Batman v Superman: Dawn of Justice\n",
              "7274            Gangster's Paradise: Jerusalema\n",
              "2893                              Flying Tigers\n",
              "3537                               Criminal Law\n",
              "702                                   Project S\n",
              "8371       Justice League: Crisis on Two Earths\n",
              "8680                          The Young Savages\n",
              "1135                   Night Falls on Manhattan\n",
              "6331                                 Cul-de-sac\n",
              "8743                               Son of a Gun\n",
              "2490                                Jagged Edge\n",
              "Name: title, dtype: object"
            ]
          },
          "metadata": {},
          "execution_count": 83
        }
      ]
    },
    {
      "cell_type": "markdown",
      "metadata": {
        "id": "qSrtcIUq-RU5"
      },
      "source": [
        "Metrik Precision"
      ]
    },
    {
      "cell_type": "code",
      "metadata": {
        "id": "G60pj_mQ794W",
        "colab": {
          "base_uri": "https://localhost:8080/"
        },
        "outputId": "bd60ab67-a62b-412d-f584-b42d4dea4018"
      },
      "source": [
        "precision(gr,sv)"
      ],
      "execution_count": 84,
      "outputs": [
        {
          "output_type": "stream",
          "name": "stdout",
          "text": [
            "Jumlah Rekomendasi Film yang sesuai:  6\n",
            "Banyaknya Rekomendasi Film:  30\n"
          ]
        },
        {
          "output_type": "execute_result",
          "data": {
            "text/plain": [
              "0.2"
            ]
          },
          "metadata": {},
          "execution_count": 84
        }
      ]
    },
    {
      "cell_type": "markdown",
      "metadata": {
        "id": "8pJd23oW_m_4"
      },
      "source": [
        "**Movie Cast, Crew, Keywords dan Genre**"
      ]
    },
    {
      "cell_type": "code",
      "metadata": {
        "id": "qaCwl6lEAYN5"
      },
      "source": [
        "smd2 = smd2.reset_index()\n",
        "titles2 = smd2['title']\n",
        "indices = pd.Series(smd2.index, index=smd2['title'])"
      ],
      "execution_count": 85,
      "outputs": []
    },
    {
      "cell_type": "code",
      "metadata": {
        "id": "j61AwX7r_Yqa"
      },
      "source": [
        "def get_recommendations2(title):\n",
        "    idx = indices[title]\n",
        "    sim_scores = list(enumerate(cosine_sim2[idx]))\n",
        "    sim_scores = sorted(sim_scores, key=lambda x: x[1], reverse=True)\n",
        "    sim_scores = sim_scores[1:31]\n",
        "    movie_indices = [i[0] for i in sim_scores]\n",
        "    sim_values = [i[1]for i in sim_scores]\n",
        "    return titles.iloc[movie_indices], sim_values"
      ],
      "execution_count": 86,
      "outputs": []
    },
    {
      "cell_type": "markdown",
      "metadata": {
        "id": "FmPDxcM6-L2N"
      },
      "source": [
        "Hasil prediksi"
      ]
    },
    {
      "cell_type": "code",
      "metadata": {
        "colab": {
          "base_uri": "https://localhost:8080/"
        },
        "id": "MwEJckJjAnGl",
        "outputId": "4bb9a655-5ec7-4dd6-e082-316bf03a10e6"
      },
      "source": [
        "gr2, sv2 = get_recommendations2('Mean Girls')\n",
        "gr2.head(10)"
      ],
      "execution_count": 87,
      "outputs": [
        {
          "output_type": "execute_result",
          "data": {
            "text/plain": [
              "3311    3000 Miles to Graceland\n",
              "4735        Valley of the Dolls\n",
              "1321                   Mad City\n",
              "6245              North Country\n",
              "7865                Shark Night\n",
              "7292                    Troll 2\n",
              "6923              Super High Me\n",
              "8855                    Grandma\n",
              "6662                 Pathfinder\n",
              "7333               An Education\n",
              "Name: title, dtype: object"
            ]
          },
          "metadata": {},
          "execution_count": 87
        }
      ]
    },
    {
      "cell_type": "markdown",
      "metadata": {
        "id": "rn3kZ4_b-OxD"
      },
      "source": [
        "Metrik Precision"
      ]
    },
    {
      "cell_type": "code",
      "metadata": {
        "colab": {
          "base_uri": "https://localhost:8080/"
        },
        "id": "mdZaVJQB8i_l",
        "outputId": "a35aeee6-d74f-444a-8a7b-21589c112be4"
      },
      "source": [
        "precision(gr2.head(10),sv2)"
      ],
      "execution_count": 88,
      "outputs": [
        {
          "output_type": "stream",
          "name": "stdout",
          "text": [
            "Jumlah Rekomendasi Film yang sesuai:  10\n",
            "Banyaknya Rekomendasi Film:  10\n"
          ]
        },
        {
          "output_type": "execute_result",
          "data": {
            "text/plain": [
              "1.0"
            ]
          },
          "metadata": {},
          "execution_count": 88
        }
      ]
    },
    {
      "cell_type": "markdown",
      "metadata": {
        "id": "Ukzz3nLd0jtm"
      },
      "source": [
        "###Prediksi dengan Collaborative Filtering"
      ]
    },
    {
      "cell_type": "code",
      "metadata": {
        "id": "o-VKgNI0aBTB"
      },
      "source": [
        "def get_top_n_recommendations(userId,predictions, n=10):\n",
        "    predict_ratings = {}\n",
        "    # loop untuk mendapatkan prediksi untuk user\n",
        "    for uid, iid, true_r, est, _ in predictions:\n",
        "        if (uid==userId):\n",
        "            predict_ratings[iid] = est\n",
        "    predict_ratings = sorted(predict_ratings.items(), key=lambda kv: kv[1],reverse=True)[:n]\n",
        "    top_movies = [i[0] for i in predict_ratings]\n",
        "    top_movies = [str(i) for i in top_movies]\n",
        "    print(\"=\"*10,\"Recommended movies for user {} :\".format(userId),\"=\"*10)\n",
        "    print(movies2[movies2[\"id\"].isin(top_movies)][\"original_title\"].to_string(index=False))"
      ],
      "execution_count": 89,
      "outputs": []
    },
    {
      "cell_type": "markdown",
      "metadata": {
        "id": "mz_6Ivu6_Rlm"
      },
      "source": [
        "**Prediksi dengan model Baseline**"
      ]
    },
    {
      "cell_type": "code",
      "metadata": {
        "colab": {
          "base_uri": "https://localhost:8080/"
        },
        "id": "RkhZo11y7Heh",
        "outputId": "3d6aa8fc-fcc1-4c7e-cc1c-c7c7e42f2709"
      },
      "source": [
        "bm = get_top_n_recommendations(450,test_predictions)"
      ],
      "execution_count": 90,
      "outputs": [
        {
          "output_type": "stream",
          "name": "stdout",
          "text": [
            "========== Recommended movies for user 450 : ==========\n",
            "        The Man with the Golden Arm\n",
            "           The Million Dollar Hotel\n",
            " Terminator 3: Rise of the Machines\n",
            "                              Miffo\n"
          ]
        }
      ]
    },
    {
      "cell_type": "markdown",
      "metadata": {
        "id": "Tp6Lr0v__W2a"
      },
      "source": [
        "**Prediksi dengan model SVD**"
      ]
    },
    {
      "cell_type": "code",
      "metadata": {
        "colab": {
          "base_uri": "https://localhost:8080/"
        },
        "id": "AVSB_9Us7Nip",
        "outputId": "39aa9bd9-dc3e-4366-ee12-60e4c4b121b6"
      },
      "source": [
        "sm = get_top_n_recommendations(450,test_predictions2)"
      ],
      "execution_count": 91,
      "outputs": [
        {
          "output_type": "stream",
          "name": "stdout",
          "text": [
            "========== Recommended movies for user 450 : ==========\n",
            "        The Man with the Golden Arm\n",
            "           The Million Dollar Hotel\n",
            " Terminator 3: Rise of the Machines\n",
            "                              Miffo\n"
          ]
        }
      ]
    },
    {
      "cell_type": "markdown",
      "metadata": {
        "id": "ZeBaCGTv_YCF"
      },
      "source": [
        "**Prediksi dengan model KNN**"
      ]
    },
    {
      "cell_type": "code",
      "metadata": {
        "colab": {
          "base_uri": "https://localhost:8080/"
        },
        "id": "xKzsfLA-7Odj",
        "outputId": "199801a9-495b-4e2b-b750-12af49e5ac8a"
      },
      "source": [
        "km = get_top_n_recommendations(450,test_predictions3)"
      ],
      "execution_count": 92,
      "outputs": [
        {
          "output_type": "stream",
          "name": "stdout",
          "text": [
            "========== Recommended movies for user 450 : ==========\n",
            "        The Man with the Golden Arm\n",
            "           The Million Dollar Hotel\n",
            " Terminator 3: Rise of the Machines\n",
            "                              Miffo\n"
          ]
        }
      ]
    },
    {
      "cell_type": "markdown",
      "metadata": {
        "id": "VkuJbEnm8Oew"
      },
      "source": [
        "Hasil rekomendasi film dari ketiga model yang dikembangkan, menghasilkan sejumlah rekomendasi film yang sama. Jika diperhatikan metrik dari ketiga model, nilainya metriknya tidak jauh berbeda."
      ]
    },
    {
      "cell_type": "code",
      "metadata": {
        "id": "BEDzBijw8POG"
      },
      "source": [
        ""
      ],
      "execution_count": null,
      "outputs": []
    }
  ]
}